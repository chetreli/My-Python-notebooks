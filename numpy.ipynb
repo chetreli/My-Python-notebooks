{
  "metadata": {
    "kernelspec": {
      "name": "python",
      "display_name": "Python (Pyodide)",
      "language": "python"
    },
    "language_info": {
      "codemirror_mode": {
        "name": "python",
        "version": 3
      },
      "file_extension": ".py",
      "mimetype": "text/x-python",
      "name": "python",
      "nbconvert_exporter": "python",
      "pygments_lexer": "ipython3",
      "version": "3.8"
    }
  },
  "nbformat_minor": 5,
  "nbformat": 4,
  "cells": [
    {
      "id": "1d667663-4482-40b2-8e1d-304bdc0d2556",
      "cell_type": "code",
      "source": "import numpy as np\nimport sys",
      "metadata": {
        "trusted": true
      },
      "outputs": [],
      "execution_count": 5
    },
    {
      "id": "72833822-88df-4137-a7b8-e4eda35e4217",
      "cell_type": "code",
      "source": "a = np.array([1,2,3,4])",
      "metadata": {
        "trusted": true
      },
      "outputs": [],
      "execution_count": 6
    },
    {
      "id": "4bed2dd7-7ed8-4594-b191-6acc831bc587",
      "cell_type": "code",
      "source": "a[0:3]",
      "metadata": {
        "trusted": true
      },
      "outputs": [
        {
          "execution_count": 7,
          "output_type": "execute_result",
          "data": {
            "text/plain": "array([1, 2, 3])"
          },
          "metadata": {}
        }
      ],
      "execution_count": 7
    },
    {
      "id": "5bb00fc0-eb23-43b9-bb8a-58867bd00eae",
      "cell_type": "code",
      "source": "a.dtype",
      "metadata": {
        "trusted": true
      },
      "outputs": [
        {
          "execution_count": 8,
          "output_type": "execute_result",
          "data": {
            "text/plain": "dtype('int32')"
          },
          "metadata": {}
        }
      ],
      "execution_count": 8
    },
    {
      "id": "e7aaa88f-2379-4d09-b736-64e97821feaa",
      "cell_type": "code",
      "source": "a.mean()",
      "metadata": {
        "trusted": true
      },
      "outputs": [
        {
          "execution_count": 9,
          "output_type": "execute_result",
          "data": {
            "text/plain": "np.float64(2.5)"
          },
          "metadata": {}
        }
      ],
      "execution_count": 9
    },
    {
      "id": "8ab3c910-5faf-4a56-988e-378560f7dcd2",
      "cell_type": "code",
      "source": "a.std()",
      "metadata": {
        "trusted": true
      },
      "outputs": [
        {
          "execution_count": 11,
          "output_type": "execute_result",
          "data": {
            "text/plain": "np.float64(1.118033988749895)"
          },
          "metadata": {}
        }
      ],
      "execution_count": 11
    },
    {
      "id": "60ac54e8-9c85-403c-85d7-e3d6f60cc72c",
      "cell_type": "code",
      "source": "b = np.arange(3)",
      "metadata": {
        "trusted": true
      },
      "outputs": [],
      "execution_count": 13
    },
    {
      "id": "e99c3b94-3970-4709-85f4-c3a82ef2ac91",
      "cell_type": "code",
      "source": "b[b>0]",
      "metadata": {
        "trusted": true
      },
      "outputs": [
        {
          "execution_count": 14,
          "output_type": "execute_result",
          "data": {
            "text/plain": "array([1, 2])"
          },
          "metadata": {}
        }
      ],
      "execution_count": 14
    },
    {
      "id": "2acfb1f5-21ba-4ada-bc8c-2f68a4a52486",
      "cell_type": "code",
      "source": "",
      "metadata": {
        "trusted": true
      },
      "outputs": [],
      "execution_count": null
    }
  ]
}