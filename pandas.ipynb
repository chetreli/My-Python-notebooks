{
  "metadata": {
    "kernelspec": {
      "name": "python",
      "display_name": "Python (Pyodide)",
      "language": "python"
    },
    "language_info": {
      "codemirror_mode": {
        "name": "python",
        "version": 3
      },
      "file_extension": ".py",
      "mimetype": "text/x-python",
      "name": "python",
      "nbconvert_exporter": "python",
      "pygments_lexer": "ipython3",
      "version": "3.8"
    }
  },
  "nbformat_minor": 5,
  "nbformat": 4,
  "cells": [
    {
      "id": "02249d94-7d10-40fc-8eaf-198069f13ce5",
      "cell_type": "code",
      "source": "#series\nimport pandas as pd\nimport numpy as np",
      "metadata": {
        "trusted": true
      },
      "outputs": [],
      "execution_count": 17
    },
    {
      "id": "2e8b4b23-f5d8-4349-a356-53056da4713a",
      "cell_type": "code",
      "source": "g7_pop = pd.Series([35.4, 63.951, 80.94, 60.665, 127.061, 64.511, 318.523])",
      "metadata": {
        "trusted": true
      },
      "outputs": [],
      "execution_count": 3
    },
    {
      "id": "5f738e1f-56a1-46c0-80d8-ca9b95e5594a",
      "cell_type": "code",
      "source": "g7_pop",
      "metadata": {
        "trusted": true
      },
      "outputs": [
        {
          "execution_count": 4,
          "output_type": "execute_result",
          "data": {
            "text/plain": "0     35.400\n1     63.951\n2     80.940\n3     60.665\n4    127.061\n5     64.511\n6    318.523\ndtype: float64"
          },
          "metadata": {}
        }
      ],
      "execution_count": 4
    },
    {
      "id": "ceadf124-824b-43c6-87ae-eb2497d4a70e",
      "cell_type": "code",
      "source": "g7_pop.astype('float32')",
      "metadata": {
        "trusted": true
      },
      "outputs": [
        {
          "execution_count": 5,
          "output_type": "execute_result",
          "data": {
            "text/plain": "0     35.400002\n1     63.951000\n2     80.940002\n3     60.665001\n4    127.060997\n5     64.511002\n6    318.523010\ndtype: float32"
          },
          "metadata": {}
        }
      ],
      "execution_count": 5
    },
    {
      "id": "aeecd9ae-c3a0-4435-b5cf-5cfc82dea2ef",
      "cell_type": "code",
      "source": "g7_pop.name = \"G7 Population in mil\"",
      "metadata": {
        "trusted": true
      },
      "outputs": [],
      "execution_count": 6
    },
    {
      "id": "33f0d391-cca8-446f-a549-fb43631d8681",
      "cell_type": "code",
      "source": "g7_pop",
      "metadata": {
        "trusted": true
      },
      "outputs": [
        {
          "execution_count": 7,
          "output_type": "execute_result",
          "data": {
            "text/plain": "0     35.400\n1     63.951\n2     80.940\n3     60.665\n4    127.061\n5     64.511\n6    318.523\nName: G7 Population in mil, dtype: float64"
          },
          "metadata": {}
        }
      ],
      "execution_count": 7
    },
    {
      "id": "473952dd-775e-49ce-ad5f-54ad4a743d78",
      "cell_type": "code",
      "source": "g7_pop.index = [\"Canada\", 'France', 'Germany', 'Italy', 'Japan', 'UK', 'US']",
      "metadata": {
        "trusted": true
      },
      "outputs": [],
      "execution_count": 8
    },
    {
      "id": "fe50ef6a-5705-43c7-aa02-eb6f60e575a6",
      "cell_type": "code",
      "source": "g7_pop",
      "metadata": {
        "trusted": true
      },
      "outputs": [
        {
          "execution_count": 12,
          "output_type": "execute_result",
          "data": {
            "text/plain": "Canada      35.400\nFrance      63.951\nGermany     80.940\nItaly       60.665\nJapan      127.061\nUK          64.511\nUS         318.523\nName: G7 Population in mil, dtype: float64"
          },
          "metadata": {}
        }
      ],
      "execution_count": 12
    },
    {
      "id": "45997856-39d8-4bef-b00f-303cd16b0904",
      "cell_type": "code",
      "source": "g7_pop.mean()",
      "metadata": {
        "trusted": true
      },
      "outputs": [
        {
          "execution_count": 13,
          "output_type": "execute_result",
          "data": {
            "text/plain": "np.float64(107.293)"
          },
          "metadata": {}
        }
      ],
      "execution_count": 13
    },
    {
      "id": "d832816b-94c4-471d-b3dd-c55010ead359",
      "cell_type": "code",
      "source": "g7_pop[(g7_pop < g7_pop.mean() - g7_pop.std()/2) | (g7_pop > g7_pop.mean() + g7_pop.std()/2)]",
      "metadata": {
        "trusted": true
      },
      "outputs": [
        {
          "execution_count": 14,
          "output_type": "execute_result",
          "data": {
            "text/plain": "Canada     35.400\nUS        318.523\nName: G7 Population in mil, dtype: float64"
          },
          "metadata": {}
        }
      ],
      "execution_count": 14
    },
    {
      "id": "5773389e-810b-47de-be30-d601e3737a7a",
      "cell_type": "code",
      "source": "",
      "metadata": {
        "trusted": true
      },
      "outputs": [],
      "execution_count": null
    },
    {
      "id": "a84dcdae-a330-4190-97e9-52057dba1441",
      "cell_type": "code",
      "source": "",
      "metadata": {
        "trusted": true
      },
      "outputs": [],
      "execution_count": null
    },
    {
      "id": "6e93d61e-02f1-4795-94a2-694d8a2d8230",
      "cell_type": "code",
      "source": "#dataframe or table",
      "metadata": {
        "trusted": true
      },
      "outputs": [],
      "execution_count": 18
    },
    {
      "id": "bb0e19c2-9330-425b-a0cf-c4d0bccda3eb",
      "cell_type": "code",
      "source": "dp = pd.DataFrame({'Population' :[35.4, 63.951, 80.94, 60.665, 127.061, 64.511, 318.523],\n                   'GDP' : [1785387, 2833687,3874437, 2167744, 420236, 2950039, 17348975],\n                   'HDI' : [0.913, 0.888, 0.916, 0.873, 0.891,0.907,0.915]}, columns = ['Population', 'GDP', 'HDI'])\n                   ",
      "metadata": {
        "trusted": true
      },
      "outputs": [],
      "execution_count": 19
    },
    {
      "id": "75667145-a07b-4fe2-a632-6628e0a9f5b9",
      "cell_type": "code",
      "source": "dp",
      "metadata": {
        "trusted": true
      },
      "outputs": [
        {
          "execution_count": 20,
          "output_type": "execute_result",
          "data": {
            "text/plain": "   Population       GDP    HDI\n0      35.400   1785387  0.913\n1      63.951   2833687  0.888\n2      80.940   3874437  0.916\n3      60.665   2167744  0.873\n4     127.061    420236  0.891\n5      64.511   2950039  0.907\n6     318.523  17348975  0.915",
            "text/html": "<div>\n<style scoped>\n    .dataframe tbody tr th:only-of-type {\n        vertical-align: middle;\n    }\n\n    .dataframe tbody tr th {\n        vertical-align: top;\n    }\n\n    .dataframe thead th {\n        text-align: right;\n    }\n</style>\n<table border=\"1\" class=\"dataframe\">\n  <thead>\n    <tr style=\"text-align: right;\">\n      <th></th>\n      <th>Population</th>\n      <th>GDP</th>\n      <th>HDI</th>\n    </tr>\n  </thead>\n  <tbody>\n    <tr>\n      <th>0</th>\n      <td>35.400</td>\n      <td>1785387</td>\n      <td>0.913</td>\n    </tr>\n    <tr>\n      <th>1</th>\n      <td>63.951</td>\n      <td>2833687</td>\n      <td>0.888</td>\n    </tr>\n    <tr>\n      <th>2</th>\n      <td>80.940</td>\n      <td>3874437</td>\n      <td>0.916</td>\n    </tr>\n    <tr>\n      <th>3</th>\n      <td>60.665</td>\n      <td>2167744</td>\n      <td>0.873</td>\n    </tr>\n    <tr>\n      <th>4</th>\n      <td>127.061</td>\n      <td>420236</td>\n      <td>0.891</td>\n    </tr>\n    <tr>\n      <th>5</th>\n      <td>64.511</td>\n      <td>2950039</td>\n      <td>0.907</td>\n    </tr>\n    <tr>\n      <th>6</th>\n      <td>318.523</td>\n      <td>17348975</td>\n      <td>0.915</td>\n    </tr>\n  </tbody>\n</table>\n</div>"
          },
          "metadata": {}
        }
      ],
      "execution_count": 20
    },
    {
      "id": "898f74b0-8fcb-4a95-8698-e4ab53876cb5",
      "cell_type": "code",
      "source": "dp.index = ['Canada', 'France', 'Germany', 'Italy', 'Japan', 'UK', 'US']",
      "metadata": {
        "trusted": true
      },
      "outputs": [],
      "execution_count": 22
    },
    {
      "id": "515f59bb-3620-401a-8f0b-9a8014387c60",
      "cell_type": "code",
      "source": "dp",
      "metadata": {
        "trusted": true
      },
      "outputs": [
        {
          "execution_count": 23,
          "output_type": "execute_result",
          "data": {
            "text/plain": "         Population       GDP    HDI\nCanada       35.400   1785387  0.913\nFrance       63.951   2833687  0.888\nGermany      80.940   3874437  0.916\nItaly        60.665   2167744  0.873\nJapan       127.061    420236  0.891\nUK           64.511   2950039  0.907\nUS          318.523  17348975  0.915",
            "text/html": "<div>\n<style scoped>\n    .dataframe tbody tr th:only-of-type {\n        vertical-align: middle;\n    }\n\n    .dataframe tbody tr th {\n        vertical-align: top;\n    }\n\n    .dataframe thead th {\n        text-align: right;\n    }\n</style>\n<table border=\"1\" class=\"dataframe\">\n  <thead>\n    <tr style=\"text-align: right;\">\n      <th></th>\n      <th>Population</th>\n      <th>GDP</th>\n      <th>HDI</th>\n    </tr>\n  </thead>\n  <tbody>\n    <tr>\n      <th>Canada</th>\n      <td>35.400</td>\n      <td>1785387</td>\n      <td>0.913</td>\n    </tr>\n    <tr>\n      <th>France</th>\n      <td>63.951</td>\n      <td>2833687</td>\n      <td>0.888</td>\n    </tr>\n    <tr>\n      <th>Germany</th>\n      <td>80.940</td>\n      <td>3874437</td>\n      <td>0.916</td>\n    </tr>\n    <tr>\n      <th>Italy</th>\n      <td>60.665</td>\n      <td>2167744</td>\n      <td>0.873</td>\n    </tr>\n    <tr>\n      <th>Japan</th>\n      <td>127.061</td>\n      <td>420236</td>\n      <td>0.891</td>\n    </tr>\n    <tr>\n      <th>UK</th>\n      <td>64.511</td>\n      <td>2950039</td>\n      <td>0.907</td>\n    </tr>\n    <tr>\n      <th>US</th>\n      <td>318.523</td>\n      <td>17348975</td>\n      <td>0.915</td>\n    </tr>\n  </tbody>\n</table>\n</div>"
          },
          "metadata": {}
        }
      ],
      "execution_count": 23
    },
    {
      "id": "7452c840-f726-4780-8d44-3ddb629e36a1",
      "cell_type": "code",
      "source": "dp.info()",
      "metadata": {
        "trusted": true
      },
      "outputs": [
        {
          "name": "stdout",
          "output_type": "stream",
          "text": "<class 'pandas.core.frame.DataFrame'>\nIndex: 7 entries, Canada to US\nData columns (total 3 columns):\n #   Column      Non-Null Count  Dtype  \n---  ------      --------------  -----  \n 0   Population  7 non-null      float64\n 1   GDP         7 non-null      int64  \n 2   HDI         7 non-null      float64\ndtypes: float64(2), int64(1)\nmemory usage: 196.0+ bytes\n"
        }
      ],
      "execution_count": 24
    },
    {
      "id": "57395af5-f0e3-4fc9-8859-765d3627a5e6",
      "cell_type": "code",
      "source": "dp.shape",
      "metadata": {
        "trusted": true
      },
      "outputs": [
        {
          "execution_count": 26,
          "output_type": "execute_result",
          "data": {
            "text/plain": "(7, 3)"
          },
          "metadata": {}
        }
      ],
      "execution_count": 26
    },
    {
      "id": "3e3c0ead-924f-498d-b00e-bb0fa9cfa88f",
      "cell_type": "code",
      "source": "dp.describe()",
      "metadata": {
        "trusted": true
      },
      "outputs": [
        {
          "execution_count": 27,
          "output_type": "execute_result",
          "data": {
            "text/plain": "       Population           GDP       HDI\ncount    7.000000  7.000000e+00  7.000000\nmean   107.293000  4.482929e+06  0.900429\nstd     97.258221  5.775198e+06  0.016592\nmin     35.400000  4.202360e+05  0.873000\n25%     62.308000  1.976566e+06  0.889500\n50%     64.511000  2.833687e+06  0.907000\n75%    104.000500  3.412238e+06  0.914000\nmax    318.523000  1.734898e+07  0.916000",
            "text/html": "<div>\n<style scoped>\n    .dataframe tbody tr th:only-of-type {\n        vertical-align: middle;\n    }\n\n    .dataframe tbody tr th {\n        vertical-align: top;\n    }\n\n    .dataframe thead th {\n        text-align: right;\n    }\n</style>\n<table border=\"1\" class=\"dataframe\">\n  <thead>\n    <tr style=\"text-align: right;\">\n      <th></th>\n      <th>Population</th>\n      <th>GDP</th>\n      <th>HDI</th>\n    </tr>\n  </thead>\n  <tbody>\n    <tr>\n      <th>count</th>\n      <td>7.000000</td>\n      <td>7.000000e+00</td>\n      <td>7.000000</td>\n    </tr>\n    <tr>\n      <th>mean</th>\n      <td>107.293000</td>\n      <td>4.482929e+06</td>\n      <td>0.900429</td>\n    </tr>\n    <tr>\n      <th>std</th>\n      <td>97.258221</td>\n      <td>5.775198e+06</td>\n      <td>0.016592</td>\n    </tr>\n    <tr>\n      <th>min</th>\n      <td>35.400000</td>\n      <td>4.202360e+05</td>\n      <td>0.873000</td>\n    </tr>\n    <tr>\n      <th>25%</th>\n      <td>62.308000</td>\n      <td>1.976566e+06</td>\n      <td>0.889500</td>\n    </tr>\n    <tr>\n      <th>50%</th>\n      <td>64.511000</td>\n      <td>2.833687e+06</td>\n      <td>0.907000</td>\n    </tr>\n    <tr>\n      <th>75%</th>\n      <td>104.000500</td>\n      <td>3.412238e+06</td>\n      <td>0.914000</td>\n    </tr>\n    <tr>\n      <th>max</th>\n      <td>318.523000</td>\n      <td>1.734898e+07</td>\n      <td>0.916000</td>\n    </tr>\n  </tbody>\n</table>\n</div>"
          },
          "metadata": {}
        }
      ],
      "execution_count": 27
    },
    {
      "id": "88fbabad-3026-4f31-9071-733182a46219",
      "cell_type": "code",
      "source": "dp.loc[dp['Population'] > 70]",
      "metadata": {
        "trusted": true
      },
      "outputs": [
        {
          "execution_count": 28,
          "output_type": "execute_result",
          "data": {
            "text/plain": "         Population       GDP    HDI\nGermany      80.940   3874437  0.916\nJapan       127.061    420236  0.891\nUS          318.523  17348975  0.915",
            "text/html": "<div>\n<style scoped>\n    .dataframe tbody tr th:only-of-type {\n        vertical-align: middle;\n    }\n\n    .dataframe tbody tr th {\n        vertical-align: top;\n    }\n\n    .dataframe thead th {\n        text-align: right;\n    }\n</style>\n<table border=\"1\" class=\"dataframe\">\n  <thead>\n    <tr style=\"text-align: right;\">\n      <th></th>\n      <th>Population</th>\n      <th>GDP</th>\n      <th>HDI</th>\n    </tr>\n  </thead>\n  <tbody>\n    <tr>\n      <th>Germany</th>\n      <td>80.940</td>\n      <td>3874437</td>\n      <td>0.916</td>\n    </tr>\n    <tr>\n      <th>Japan</th>\n      <td>127.061</td>\n      <td>420236</td>\n      <td>0.891</td>\n    </tr>\n    <tr>\n      <th>US</th>\n      <td>318.523</td>\n      <td>17348975</td>\n      <td>0.915</td>\n    </tr>\n  </tbody>\n</table>\n</div>"
          },
          "metadata": {}
        }
      ],
      "execution_count": 28
    },
    {
      "id": "b329ce4b-4905-4ad2-9101-a90b86a51c80",
      "cell_type": "code",
      "source": "dp.drop('Canada')",
      "metadata": {
        "trusted": true
      },
      "outputs": [
        {
          "execution_count": 29,
          "output_type": "execute_result",
          "data": {
            "text/plain": "         Population       GDP    HDI\nFrance       63.951   2833687  0.888\nGermany      80.940   3874437  0.916\nItaly        60.665   2167744  0.873\nJapan       127.061    420236  0.891\nUK           64.511   2950039  0.907\nUS          318.523  17348975  0.915",
            "text/html": "<div>\n<style scoped>\n    .dataframe tbody tr th:only-of-type {\n        vertical-align: middle;\n    }\n\n    .dataframe tbody tr th {\n        vertical-align: top;\n    }\n\n    .dataframe thead th {\n        text-align: right;\n    }\n</style>\n<table border=\"1\" class=\"dataframe\">\n  <thead>\n    <tr style=\"text-align: right;\">\n      <th></th>\n      <th>Population</th>\n      <th>GDP</th>\n      <th>HDI</th>\n    </tr>\n  </thead>\n  <tbody>\n    <tr>\n      <th>France</th>\n      <td>63.951</td>\n      <td>2833687</td>\n      <td>0.888</td>\n    </tr>\n    <tr>\n      <th>Germany</th>\n      <td>80.940</td>\n      <td>3874437</td>\n      <td>0.916</td>\n    </tr>\n    <tr>\n      <th>Italy</th>\n      <td>60.665</td>\n      <td>2167744</td>\n      <td>0.873</td>\n    </tr>\n    <tr>\n      <th>Japan</th>\n      <td>127.061</td>\n      <td>420236</td>\n      <td>0.891</td>\n    </tr>\n    <tr>\n      <th>UK</th>\n      <td>64.511</td>\n      <td>2950039</td>\n      <td>0.907</td>\n    </tr>\n    <tr>\n      <th>US</th>\n      <td>318.523</td>\n      <td>17348975</td>\n      <td>0.915</td>\n    </tr>\n  </tbody>\n</table>\n</div>"
          },
          "metadata": {}
        }
      ],
      "execution_count": 29
    },
    {
      "id": "865bbf0e-03e1-4914-b9dd-74dc9c4f117a",
      "cell_type": "code",
      "source": "dp",
      "metadata": {
        "trusted": true
      },
      "outputs": [
        {
          "execution_count": 30,
          "output_type": "execute_result",
          "data": {
            "text/plain": "         Population       GDP    HDI\nCanada       35.400   1785387  0.913\nFrance       63.951   2833687  0.888\nGermany      80.940   3874437  0.916\nItaly        60.665   2167744  0.873\nJapan       127.061    420236  0.891\nUK           64.511   2950039  0.907\nUS          318.523  17348975  0.915",
            "text/html": "<div>\n<style scoped>\n    .dataframe tbody tr th:only-of-type {\n        vertical-align: middle;\n    }\n\n    .dataframe tbody tr th {\n        vertical-align: top;\n    }\n\n    .dataframe thead th {\n        text-align: right;\n    }\n</style>\n<table border=\"1\" class=\"dataframe\">\n  <thead>\n    <tr style=\"text-align: right;\">\n      <th></th>\n      <th>Population</th>\n      <th>GDP</th>\n      <th>HDI</th>\n    </tr>\n  </thead>\n  <tbody>\n    <tr>\n      <th>Canada</th>\n      <td>35.400</td>\n      <td>1785387</td>\n      <td>0.913</td>\n    </tr>\n    <tr>\n      <th>France</th>\n      <td>63.951</td>\n      <td>2833687</td>\n      <td>0.888</td>\n    </tr>\n    <tr>\n      <th>Germany</th>\n      <td>80.940</td>\n      <td>3874437</td>\n      <td>0.916</td>\n    </tr>\n    <tr>\n      <th>Italy</th>\n      <td>60.665</td>\n      <td>2167744</td>\n      <td>0.873</td>\n    </tr>\n    <tr>\n      <th>Japan</th>\n      <td>127.061</td>\n      <td>420236</td>\n      <td>0.891</td>\n    </tr>\n    <tr>\n      <th>UK</th>\n      <td>64.511</td>\n      <td>2950039</td>\n      <td>0.907</td>\n    </tr>\n    <tr>\n      <th>US</th>\n      <td>318.523</td>\n      <td>17348975</td>\n      <td>0.915</td>\n    </tr>\n  </tbody>\n</table>\n</div>"
          },
          "metadata": {}
        }
      ],
      "execution_count": 30
    },
    {
      "id": "6cca86c0-512f-438c-9d08-7e14756e6d66",
      "cell_type": "code",
      "source": "dp.drop(['Italy', 'Canada'], axis = 0)",
      "metadata": {
        "trusted": true
      },
      "outputs": [
        {
          "execution_count": 33,
          "output_type": "execute_result",
          "data": {
            "text/plain": "         Population       GDP    HDI\nFrance       63.951   2833687  0.888\nGermany      80.940   3874437  0.916\nJapan       127.061    420236  0.891\nUK           64.511   2950039  0.907\nUS          318.523  17348975  0.915",
            "text/html": "<div>\n<style scoped>\n    .dataframe tbody tr th:only-of-type {\n        vertical-align: middle;\n    }\n\n    .dataframe tbody tr th {\n        vertical-align: top;\n    }\n\n    .dataframe thead th {\n        text-align: right;\n    }\n</style>\n<table border=\"1\" class=\"dataframe\">\n  <thead>\n    <tr style=\"text-align: right;\">\n      <th></th>\n      <th>Population</th>\n      <th>GDP</th>\n      <th>HDI</th>\n    </tr>\n  </thead>\n  <tbody>\n    <tr>\n      <th>France</th>\n      <td>63.951</td>\n      <td>2833687</td>\n      <td>0.888</td>\n    </tr>\n    <tr>\n      <th>Germany</th>\n      <td>80.940</td>\n      <td>3874437</td>\n      <td>0.916</td>\n    </tr>\n    <tr>\n      <th>Japan</th>\n      <td>127.061</td>\n      <td>420236</td>\n      <td>0.891</td>\n    </tr>\n    <tr>\n      <th>UK</th>\n      <td>64.511</td>\n      <td>2950039</td>\n      <td>0.907</td>\n    </tr>\n    <tr>\n      <th>US</th>\n      <td>318.523</td>\n      <td>17348975</td>\n      <td>0.915</td>\n    </tr>\n  </tbody>\n</table>\n</div>"
          },
          "metadata": {}
        }
      ],
      "execution_count": 33
    },
    {
      "id": "aa50e52c-7c88-4c99-a866-e7160ebd204f",
      "cell_type": "code",
      "source": "dp.drop(['Population', 'HDI'], axis = 1)",
      "metadata": {
        "trusted": true
      },
      "outputs": [
        {
          "execution_count": 34,
          "output_type": "execute_result",
          "data": {
            "text/plain": "              GDP\nCanada    1785387\nFrance    2833687\nGermany   3874437\nItaly     2167744\nJapan      420236\nUK        2950039\nUS       17348975",
            "text/html": "<div>\n<style scoped>\n    .dataframe tbody tr th:only-of-type {\n        vertical-align: middle;\n    }\n\n    .dataframe tbody tr th {\n        vertical-align: top;\n    }\n\n    .dataframe thead th {\n        text-align: right;\n    }\n</style>\n<table border=\"1\" class=\"dataframe\">\n  <thead>\n    <tr style=\"text-align: right;\">\n      <th></th>\n      <th>GDP</th>\n    </tr>\n  </thead>\n  <tbody>\n    <tr>\n      <th>Canada</th>\n      <td>1785387</td>\n    </tr>\n    <tr>\n      <th>France</th>\n      <td>2833687</td>\n    </tr>\n    <tr>\n      <th>Germany</th>\n      <td>3874437</td>\n    </tr>\n    <tr>\n      <th>Italy</th>\n      <td>2167744</td>\n    </tr>\n    <tr>\n      <th>Japan</th>\n      <td>420236</td>\n    </tr>\n    <tr>\n      <th>UK</th>\n      <td>2950039</td>\n    </tr>\n    <tr>\n      <th>US</th>\n      <td>17348975</td>\n    </tr>\n  </tbody>\n</table>\n</div>"
          },
          "metadata": {}
        }
      ],
      "execution_count": 34
    },
    {
      "id": "e45b649a-0544-459a-a54c-cf5afdbd5d15",
      "cell_type": "code",
      "source": "NIGERS_HAVE_ARRIVED = pd.Series([-1_000_000, -0.3], index = ['GDP', 'HDI'])\nNIGERS_HAVE_ARRIVED",
      "metadata": {
        "trusted": true
      },
      "outputs": [
        {
          "execution_count": 35,
          "output_type": "execute_result",
          "data": {
            "text/plain": "GDP   -1000000.0\nHDI         -0.3\ndtype: float64"
          },
          "metadata": {}
        }
      ],
      "execution_count": 35
    },
    {
      "id": "e94699cd-c16f-4449-9f62-648da309b7bf",
      "cell_type": "code",
      "source": "dp[['GDP', 'HDI']] + NIGERS_HAVE_ARRIVED",
      "metadata": {
        "trusted": true
      },
      "outputs": [
        {
          "execution_count": 36,
          "output_type": "execute_result",
          "data": {
            "text/plain": "                GDP    HDI\nCanada     785387.0  0.613\nFrance    1833687.0  0.588\nGermany   2874437.0  0.616\nItaly     1167744.0  0.573\nJapan     -579764.0  0.591\nUK        1950039.0  0.607\nUS       16348975.0  0.615",
            "text/html": "<div>\n<style scoped>\n    .dataframe tbody tr th:only-of-type {\n        vertical-align: middle;\n    }\n\n    .dataframe tbody tr th {\n        vertical-align: top;\n    }\n\n    .dataframe thead th {\n        text-align: right;\n    }\n</style>\n<table border=\"1\" class=\"dataframe\">\n  <thead>\n    <tr style=\"text-align: right;\">\n      <th></th>\n      <th>GDP</th>\n      <th>HDI</th>\n    </tr>\n  </thead>\n  <tbody>\n    <tr>\n      <th>Canada</th>\n      <td>785387.0</td>\n      <td>0.613</td>\n    </tr>\n    <tr>\n      <th>France</th>\n      <td>1833687.0</td>\n      <td>0.588</td>\n    </tr>\n    <tr>\n      <th>Germany</th>\n      <td>2874437.0</td>\n      <td>0.616</td>\n    </tr>\n    <tr>\n      <th>Italy</th>\n      <td>1167744.0</td>\n      <td>0.573</td>\n    </tr>\n    <tr>\n      <th>Japan</th>\n      <td>-579764.0</td>\n      <td>0.591</td>\n    </tr>\n    <tr>\n      <th>UK</th>\n      <td>1950039.0</td>\n      <td>0.607</td>\n    </tr>\n    <tr>\n      <th>US</th>\n      <td>16348975.0</td>\n      <td>0.615</td>\n    </tr>\n  </tbody>\n</table>\n</div>"
          },
          "metadata": {}
        }
      ],
      "execution_count": 36
    },
    {
      "id": "66b63595-b82a-4399-af29-1cb612cdb0f3",
      "cell_type": "code",
      "source": "dp[['GDP', 'HDI']]",
      "metadata": {
        "trusted": true
      },
      "outputs": [
        {
          "execution_count": 38,
          "output_type": "execute_result",
          "data": {
            "text/plain": "              GDP    HDI\nCanada    1785387  0.913\nFrance    2833687  0.888\nGermany   3874437  0.916\nItaly     2167744  0.873\nJapan      420236  0.891\nUK        2950039  0.907\nUS       17348975  0.915",
            "text/html": "<div>\n<style scoped>\n    .dataframe tbody tr th:only-of-type {\n        vertical-align: middle;\n    }\n\n    .dataframe tbody tr th {\n        vertical-align: top;\n    }\n\n    .dataframe thead th {\n        text-align: right;\n    }\n</style>\n<table border=\"1\" class=\"dataframe\">\n  <thead>\n    <tr style=\"text-align: right;\">\n      <th></th>\n      <th>GDP</th>\n      <th>HDI</th>\n    </tr>\n  </thead>\n  <tbody>\n    <tr>\n      <th>Canada</th>\n      <td>1785387</td>\n      <td>0.913</td>\n    </tr>\n    <tr>\n      <th>France</th>\n      <td>2833687</td>\n      <td>0.888</td>\n    </tr>\n    <tr>\n      <th>Germany</th>\n      <td>3874437</td>\n      <td>0.916</td>\n    </tr>\n    <tr>\n      <th>Italy</th>\n      <td>2167744</td>\n      <td>0.873</td>\n    </tr>\n    <tr>\n      <th>Japan</th>\n      <td>420236</td>\n      <td>0.891</td>\n    </tr>\n    <tr>\n      <th>UK</th>\n      <td>2950039</td>\n      <td>0.907</td>\n    </tr>\n    <tr>\n      <th>US</th>\n      <td>17348975</td>\n      <td>0.915</td>\n    </tr>\n  </tbody>\n</table>\n</div>"
          },
          "metadata": {}
        }
      ],
      "execution_count": 38
    },
    {
      "id": "2473a8fb-8288-439e-8274-3fff2110ad2c",
      "cell_type": "code",
      "source": "langs = pd.Series(['French', 'German', 'Italian'], index = ['France', 'Germany', 'Italy'], name = 'Language')",
      "metadata": {
        "trusted": true
      },
      "outputs": [],
      "execution_count": 40
    },
    {
      "id": "cc07d5a5-fb6c-40da-a46a-31ea7556e40b",
      "cell_type": "code",
      "source": "langs",
      "metadata": {
        "trusted": true
      },
      "outputs": [
        {
          "execution_count": 41,
          "output_type": "execute_result",
          "data": {
            "text/plain": "France      French\nGermany     German\nItaly      Italian\nName: Language, dtype: object"
          },
          "metadata": {}
        }
      ],
      "execution_count": 41
    },
    {
      "id": "cc979aed-0253-4d57-a297-dcdf734f0985",
      "cell_type": "code",
      "source": "dp['Language'] = langs\ndp",
      "metadata": {
        "trusted": true
      },
      "outputs": [
        {
          "execution_count": 42,
          "output_type": "execute_result",
          "data": {
            "text/plain": "         Population       GDP    HDI Language\nCanada       35.400   1785387  0.913      NaN\nFrance       63.951   2833687  0.888   French\nGermany      80.940   3874437  0.916   German\nItaly        60.665   2167744  0.873  Italian\nJapan       127.061    420236  0.891      NaN\nUK           64.511   2950039  0.907      NaN\nUS          318.523  17348975  0.915      NaN",
            "text/html": "<div>\n<style scoped>\n    .dataframe tbody tr th:only-of-type {\n        vertical-align: middle;\n    }\n\n    .dataframe tbody tr th {\n        vertical-align: top;\n    }\n\n    .dataframe thead th {\n        text-align: right;\n    }\n</style>\n<table border=\"1\" class=\"dataframe\">\n  <thead>\n    <tr style=\"text-align: right;\">\n      <th></th>\n      <th>Population</th>\n      <th>GDP</th>\n      <th>HDI</th>\n      <th>Language</th>\n    </tr>\n  </thead>\n  <tbody>\n    <tr>\n      <th>Canada</th>\n      <td>35.400</td>\n      <td>1785387</td>\n      <td>0.913</td>\n      <td>NaN</td>\n    </tr>\n    <tr>\n      <th>France</th>\n      <td>63.951</td>\n      <td>2833687</td>\n      <td>0.888</td>\n      <td>French</td>\n    </tr>\n    <tr>\n      <th>Germany</th>\n      <td>80.940</td>\n      <td>3874437</td>\n      <td>0.916</td>\n      <td>German</td>\n    </tr>\n    <tr>\n      <th>Italy</th>\n      <td>60.665</td>\n      <td>2167744</td>\n      <td>0.873</td>\n      <td>Italian</td>\n    </tr>\n    <tr>\n      <th>Japan</th>\n      <td>127.061</td>\n      <td>420236</td>\n      <td>0.891</td>\n      <td>NaN</td>\n    </tr>\n    <tr>\n      <th>UK</th>\n      <td>64.511</td>\n      <td>2950039</td>\n      <td>0.907</td>\n      <td>NaN</td>\n    </tr>\n    <tr>\n      <th>US</th>\n      <td>318.523</td>\n      <td>17348975</td>\n      <td>0.915</td>\n      <td>NaN</td>\n    </tr>\n  </tbody>\n</table>\n</div>"
          },
          "metadata": {}
        }
      ],
      "execution_count": 42
    },
    {
      "id": "b128c7b4-2308-4c1a-a106-7a28af52689c",
      "cell_type": "code",
      "source": "dp.Language[['Canada', 'UK', 'US']] ",
      "metadata": {
        "trusted": true
      },
      "outputs": [
        {
          "execution_count": 71,
          "output_type": "execute_result",
          "data": {
            "text/plain": "Canada    English\nUK        English\nUS        English\nName: Language, dtype: object"
          },
          "metadata": {}
        }
      ],
      "execution_count": 71
    },
    {
      "id": "e68cf92d-83f3-4e9f-92fa-37e6c912de7e",
      "cell_type": "code",
      "source": "dp.Language['Japan'] = 'Japanese'",
      "metadata": {
        "trusted": true
      },
      "outputs": [
        {
          "name": "stderr",
          "output_type": "stream",
          "text": "<ipython-input-75-a5fbd64c2fa9>:1: SettingWithCopyWarning: \nA value is trying to be set on a copy of a slice from a DataFrame\n\nSee the caveats in the documentation: https://pandas.pydata.org/pandas-docs/stable/user_guide/indexing.html#returning-a-view-versus-a-copy\n  dp.Language['Japan'] = 'Japanese'\n"
        }
      ],
      "execution_count": 75
    },
    {
      "id": "2ad7a3a7-4bd2-4fe1-b886-9ec5b5eb6edb",
      "cell_type": "code",
      "source": "dp",
      "metadata": {
        "trusted": true
      },
      "outputs": [
        {
          "execution_count": 76,
          "output_type": "execute_result",
          "data": {
            "text/plain": "         Population       GDP    HDI  Language\nCanada       35.400   1785387  0.913   English\nFrance       63.951   2833687  0.888    French\nGermany      80.940   3874437  0.916    German\nItaly        60.665   2167744  0.873   Italian\nJapan       127.061    420236  0.891  Japanese\nUK           64.511   2950039  0.907   English\nUS          318.523  17348975  0.915   English",
            "text/html": "<div>\n<style scoped>\n    .dataframe tbody tr th:only-of-type {\n        vertical-align: middle;\n    }\n\n    .dataframe tbody tr th {\n        vertical-align: top;\n    }\n\n    .dataframe thead th {\n        text-align: right;\n    }\n</style>\n<table border=\"1\" class=\"dataframe\">\n  <thead>\n    <tr style=\"text-align: right;\">\n      <th></th>\n      <th>Population</th>\n      <th>GDP</th>\n      <th>HDI</th>\n      <th>Language</th>\n    </tr>\n  </thead>\n  <tbody>\n    <tr>\n      <th>Canada</th>\n      <td>35.400</td>\n      <td>1785387</td>\n      <td>0.913</td>\n      <td>English</td>\n    </tr>\n    <tr>\n      <th>France</th>\n      <td>63.951</td>\n      <td>2833687</td>\n      <td>0.888</td>\n      <td>French</td>\n    </tr>\n    <tr>\n      <th>Germany</th>\n      <td>80.940</td>\n      <td>3874437</td>\n      <td>0.916</td>\n      <td>German</td>\n    </tr>\n    <tr>\n      <th>Italy</th>\n      <td>60.665</td>\n      <td>2167744</td>\n      <td>0.873</td>\n      <td>Italian</td>\n    </tr>\n    <tr>\n      <th>Japan</th>\n      <td>127.061</td>\n      <td>420236</td>\n      <td>0.891</td>\n      <td>Japanese</td>\n    </tr>\n    <tr>\n      <th>UK</th>\n      <td>64.511</td>\n      <td>2950039</td>\n      <td>0.907</td>\n      <td>English</td>\n    </tr>\n    <tr>\n      <th>US</th>\n      <td>318.523</td>\n      <td>17348975</td>\n      <td>0.915</td>\n      <td>English</td>\n    </tr>\n  </tbody>\n</table>\n</div>"
          },
          "metadata": {}
        }
      ],
      "execution_count": 76
    },
    {
      "id": "8529743d-6fc2-4e7d-884c-0fc51b1ba089",
      "cell_type": "code",
      "source": "dp.loc['US'] = pd.Series({'GDP' : 30_000_000_0, 'HDI' : 1.0, 'Language' : 'AMERICAN', 'Population' : 360.523})\ndp",
      "metadata": {
        "trusted": true
      },
      "outputs": [
        {
          "execution_count": 93,
          "output_type": "execute_result",
          "data": {
            "text/plain": "         Population          GDP    HDI  Language\nCanada       35.400    1785387.0  0.913   English\nFrance       63.951    2833687.0  0.888    French\nGermany      80.940    3874437.0  0.916    German\nItaly        60.665    2167744.0  0.873   Italian\nJapan       127.061     420236.0  0.891  Japanese\nUK           64.511    2950039.0  0.907   English\nUS          360.523  300000000.0  1.000  AMERICAN",
            "text/html": "<div>\n<style scoped>\n    .dataframe tbody tr th:only-of-type {\n        vertical-align: middle;\n    }\n\n    .dataframe tbody tr th {\n        vertical-align: top;\n    }\n\n    .dataframe thead th {\n        text-align: right;\n    }\n</style>\n<table border=\"1\" class=\"dataframe\">\n  <thead>\n    <tr style=\"text-align: right;\">\n      <th></th>\n      <th>Population</th>\n      <th>GDP</th>\n      <th>HDI</th>\n      <th>Language</th>\n    </tr>\n  </thead>\n  <tbody>\n    <tr>\n      <th>Canada</th>\n      <td>35.400</td>\n      <td>1785387.0</td>\n      <td>0.913</td>\n      <td>English</td>\n    </tr>\n    <tr>\n      <th>France</th>\n      <td>63.951</td>\n      <td>2833687.0</td>\n      <td>0.888</td>\n      <td>French</td>\n    </tr>\n    <tr>\n      <th>Germany</th>\n      <td>80.940</td>\n      <td>3874437.0</td>\n      <td>0.916</td>\n      <td>German</td>\n    </tr>\n    <tr>\n      <th>Italy</th>\n      <td>60.665</td>\n      <td>2167744.0</td>\n      <td>0.873</td>\n      <td>Italian</td>\n    </tr>\n    <tr>\n      <th>Japan</th>\n      <td>127.061</td>\n      <td>420236.0</td>\n      <td>0.891</td>\n      <td>Japanese</td>\n    </tr>\n    <tr>\n      <th>UK</th>\n      <td>64.511</td>\n      <td>2950039.0</td>\n      <td>0.907</td>\n      <td>English</td>\n    </tr>\n    <tr>\n      <th>US</th>\n      <td>360.523</td>\n      <td>300000000.0</td>\n      <td>1.000</td>\n      <td>AMERICAN</td>\n    </tr>\n  </tbody>\n</table>\n</div>"
          },
          "metadata": {}
        }
      ],
      "execution_count": 93
    },
    {
      "id": "4728f3d8-f179-407a-8a4f-1ebf849087bd",
      "cell_type": "code",
      "source": "dp",
      "metadata": {
        "trusted": true
      },
      "outputs": [
        {
          "execution_count": 98,
          "output_type": "execute_result",
          "data": {
            "text/plain": "         Population          GDP    HDI  Language  GDP per capita\nCanada       35.400    1785387.0  0.913   English    50434.661017\nFrance       63.951    2833687.0  0.888    French    44310.284437\nGermany      80.940    3874437.0  0.916    German    47868.013343\nItaly        60.665    2167744.0  0.873   Italian    35733.025633\nJapan       127.061     420236.0  0.891  Japanese     3307.356309\nUK           64.511    2950039.0  0.907   English    45729.239975\nUS          360.523  300000000.0  1.000  AMERICAN   832124.441436",
            "text/html": "<div>\n<style scoped>\n    .dataframe tbody tr th:only-of-type {\n        vertical-align: middle;\n    }\n\n    .dataframe tbody tr th {\n        vertical-align: top;\n    }\n\n    .dataframe thead th {\n        text-align: right;\n    }\n</style>\n<table border=\"1\" class=\"dataframe\">\n  <thead>\n    <tr style=\"text-align: right;\">\n      <th></th>\n      <th>Population</th>\n      <th>GDP</th>\n      <th>HDI</th>\n      <th>Language</th>\n      <th>GDP per capita</th>\n    </tr>\n  </thead>\n  <tbody>\n    <tr>\n      <th>Canada</th>\n      <td>35.400</td>\n      <td>1785387.0</td>\n      <td>0.913</td>\n      <td>English</td>\n      <td>50434.661017</td>\n    </tr>\n    <tr>\n      <th>France</th>\n      <td>63.951</td>\n      <td>2833687.0</td>\n      <td>0.888</td>\n      <td>French</td>\n      <td>44310.284437</td>\n    </tr>\n    <tr>\n      <th>Germany</th>\n      <td>80.940</td>\n      <td>3874437.0</td>\n      <td>0.916</td>\n      <td>German</td>\n      <td>47868.013343</td>\n    </tr>\n    <tr>\n      <th>Italy</th>\n      <td>60.665</td>\n      <td>2167744.0</td>\n      <td>0.873</td>\n      <td>Italian</td>\n      <td>35733.025633</td>\n    </tr>\n    <tr>\n      <th>Japan</th>\n      <td>127.061</td>\n      <td>420236.0</td>\n      <td>0.891</td>\n      <td>Japanese</td>\n      <td>3307.356309</td>\n    </tr>\n    <tr>\n      <th>UK</th>\n      <td>64.511</td>\n      <td>2950039.0</td>\n      <td>0.907</td>\n      <td>English</td>\n      <td>45729.239975</td>\n    </tr>\n    <tr>\n      <th>US</th>\n      <td>360.523</td>\n      <td>300000000.0</td>\n      <td>1.000</td>\n      <td>AMERICAN</td>\n      <td>832124.441436</td>\n    </tr>\n  </tbody>\n</table>\n</div>"
          },
          "metadata": {}
        }
      ],
      "execution_count": 98
    },
    {
      "id": "0339bdac-eacd-4321-abef-b1813fc7d5c2",
      "cell_type": "code",
      "source": "dp['GDP per capita'] = dp['GDP'] / dp['Population']\ndp = dp.round({'Population' : 4, 'GDP per capita' : 1})\ndp",
      "metadata": {
        "trusted": true
      },
      "outputs": [
        {
          "execution_count": 104,
          "output_type": "execute_result",
          "data": {
            "text/plain": "         Population          GDP   HDI  Language  GDP per capita\nCanada        35.40    1785387.0  0.91   English         50434.7\nFrance        63.95    2833687.0  0.89    French         44311.0\nGermany       80.94    3874437.0  0.92    German         47868.0\nItaly         60.66    2167744.0  0.87   Italian         35736.0\nJapan        127.06     420236.0  0.89  Japanese          3307.4\nUK            64.51    2950039.0  0.91   English         45729.9\nUS           360.52  300000000.0  1.00  AMERICAN        832131.4",
            "text/html": "<div>\n<style scoped>\n    .dataframe tbody tr th:only-of-type {\n        vertical-align: middle;\n    }\n\n    .dataframe tbody tr th {\n        vertical-align: top;\n    }\n\n    .dataframe thead th {\n        text-align: right;\n    }\n</style>\n<table border=\"1\" class=\"dataframe\">\n  <thead>\n    <tr style=\"text-align: right;\">\n      <th></th>\n      <th>Population</th>\n      <th>GDP</th>\n      <th>HDI</th>\n      <th>Language</th>\n      <th>GDP per capita</th>\n    </tr>\n  </thead>\n  <tbody>\n    <tr>\n      <th>Canada</th>\n      <td>35.40</td>\n      <td>1785387.0</td>\n      <td>0.91</td>\n      <td>English</td>\n      <td>50434.7</td>\n    </tr>\n    <tr>\n      <th>France</th>\n      <td>63.95</td>\n      <td>2833687.0</td>\n      <td>0.89</td>\n      <td>French</td>\n      <td>44311.0</td>\n    </tr>\n    <tr>\n      <th>Germany</th>\n      <td>80.94</td>\n      <td>3874437.0</td>\n      <td>0.92</td>\n      <td>German</td>\n      <td>47868.0</td>\n    </tr>\n    <tr>\n      <th>Italy</th>\n      <td>60.66</td>\n      <td>2167744.0</td>\n      <td>0.87</td>\n      <td>Italian</td>\n      <td>35736.0</td>\n    </tr>\n    <tr>\n      <th>Japan</th>\n      <td>127.06</td>\n      <td>420236.0</td>\n      <td>0.89</td>\n      <td>Japanese</td>\n      <td>3307.4</td>\n    </tr>\n    <tr>\n      <th>UK</th>\n      <td>64.51</td>\n      <td>2950039.0</td>\n      <td>0.91</td>\n      <td>English</td>\n      <td>45729.9</td>\n    </tr>\n    <tr>\n      <th>US</th>\n      <td>360.52</td>\n      <td>300000000.0</td>\n      <td>1.00</td>\n      <td>AMERICAN</td>\n      <td>832131.4</td>\n    </tr>\n  </tbody>\n</table>\n</div>"
          },
          "metadata": {}
        }
      ],
      "execution_count": 104
    },
    {
      "id": "8018c29c-e4fc-4f19-838e-a42050edf091",
      "cell_type": "code",
      "source": "dp.round?",
      "metadata": {
        "trusted": true
      },
      "outputs": [
        {
          "name": "stdout",
          "output_type": "stream",
          "text": "\u001b[0;31mSignature:\u001b[0m\n\u001b[0mdp\u001b[0m\u001b[0;34m.\u001b[0m\u001b[0mround\u001b[0m\u001b[0;34m(\u001b[0m\u001b[0;34m\u001b[0m\n\u001b[0;34m\u001b[0m    \u001b[0mdecimals\u001b[0m\u001b[0;34m:\u001b[0m \u001b[0;34m'int | dict[IndexLabel, int] | Series'\u001b[0m \u001b[0;34m=\u001b[0m \u001b[0;36m0\u001b[0m\u001b[0;34m,\u001b[0m\u001b[0;34m\u001b[0m\n\u001b[0;34m\u001b[0m    \u001b[0;34m*\u001b[0m\u001b[0margs\u001b[0m\u001b[0;34m,\u001b[0m\u001b[0;34m\u001b[0m\n\u001b[0;34m\u001b[0m    \u001b[0;34m**\u001b[0m\u001b[0mkwargs\u001b[0m\u001b[0;34m,\u001b[0m\u001b[0;34m\u001b[0m\n\u001b[0;34m\u001b[0m\u001b[0;34m)\u001b[0m \u001b[0;34m->\u001b[0m \u001b[0;34m'DataFrame'\u001b[0m\u001b[0;34m\u001b[0m\u001b[0;34m\u001b[0m\u001b[0m\n\u001b[0;31mDocstring:\u001b[0m\nRound a DataFrame to a variable number of decimal places.\n\nParameters\n----------\ndecimals : int, dict, Series\n    Number of decimal places to round each column to. If an int is\n    given, round each column to the same number of places.\n    Otherwise dict and Series round to variable numbers of places.\n    Column names should be in the keys if `decimals` is a\n    dict-like, or in the index if `decimals` is a Series. Any\n    columns not included in `decimals` will be left as is. Elements\n    of `decimals` which are not columns of the input will be\n    ignored.\n*args\n    Additional keywords have no effect but might be accepted for\n    compatibility with numpy.\n**kwargs\n    Additional keywords have no effect but might be accepted for\n    compatibility with numpy.\n\nReturns\n-------\nDataFrame\n    A DataFrame with the affected columns rounded to the specified\n    number of decimal places.\n\nSee Also\n--------\nnumpy.around : Round a numpy array to the given number of decimals.\nSeries.round : Round a Series to the given number of decimals.\n\nExamples\n--------\n>>> df = pd.DataFrame([(.21, .32), (.01, .67), (.66, .03), (.21, .18)],\n...                   columns=['dogs', 'cats'])\n>>> df\n    dogs  cats\n0  0.21  0.32\n1  0.01  0.67\n2  0.66  0.03\n3  0.21  0.18\n\nBy providing an integer each column is rounded to the same number\nof decimal places\n\n>>> df.round(1)\n    dogs  cats\n0   0.2   0.3\n1   0.0   0.7\n2   0.7   0.0\n3   0.2   0.2\n\nWith a dict, the number of places for specific columns can be\nspecified with the column names as key and the number of decimal\nplaces as value\n\n>>> df.round({'dogs': 1, 'cats': 0})\n    dogs  cats\n0   0.2   0.0\n1   0.0   1.0\n2   0.7   0.0\n3   0.2   0.0\n\nUsing a Series, the number of places for specific columns can be\nspecified with the column names as index and the number of\ndecimal places as value\n\n>>> decimals = pd.Series([0, 1], index=['cats', 'dogs'])\n>>> df.round(decimals)\n    dogs  cats\n0   0.2   0.0\n1   0.0   1.0\n2   0.7   0.0\n3   0.2   0.0\n\u001b[0;31mFile:\u001b[0m      /lib/python3.12/site-packages/pandas/core/frame.py\n\u001b[0;31mType:\u001b[0m      method\n"
        }
      ],
      "execution_count": 101
    },
    {
      "id": "6683f9e7-2f51-4953-a6a9-20ae8a1054ca",
      "cell_type": "code",
      "source": "",
      "metadata": {
        "trusted": true
      },
      "outputs": [],
      "execution_count": null
    }
  ]
}