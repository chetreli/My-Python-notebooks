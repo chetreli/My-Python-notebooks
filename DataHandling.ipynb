{
  "metadata": {
    "kernelspec": {
      "name": "python",
      "display_name": "Python (Pyodide)",
      "language": "python"
    },
    "language_info": {
      "codemirror_mode": {
        "name": "python",
        "version": 3
      },
      "file_extension": ".py",
      "mimetype": "text/x-python",
      "name": "python",
      "nbconvert_exporter": "python",
      "pygments_lexer": "ipython3",
      "version": "3.8"
    }
  },
  "nbformat_minor": 5,
  "nbformat": 4,
  "cells": [
    {
      "id": "3a6fc275-3c49-41b5-92fa-14b7e04c67fa",
      "cell_type": "code",
      "source": "import numpy as np\nimport pandas as pd",
      "metadata": {
        "trusted": true
      },
      "outputs": [],
      "execution_count": 3
    },
    {
      "id": "0eb2baec-6620-4703-9c2a-3a5a35a2043d",
      "cell_type": "code",
      "source": "pd.isnull(np.nan)\npd.isnull(None)",
      "metadata": {
        "trusted": true
      },
      "outputs": [
        {
          "execution_count": 3,
          "output_type": "execute_result",
          "data": {
            "text/plain": "True"
          },
          "metadata": {}
        }
      ],
      "execution_count": 3
    },
    {
      "id": "57c4f6e1-159c-4c4f-9074-d19ff10c6c14",
      "cell_type": "code",
      "source": "pd.notnull(3)",
      "metadata": {
        "trusted": true
      },
      "outputs": [
        {
          "execution_count": 4,
          "output_type": "execute_result",
          "data": {
            "text/plain": "True"
          },
          "metadata": {}
        }
      ],
      "execution_count": 4
    },
    {
      "id": "ac225066-64de-448c-a963-9829e4b9bb81",
      "cell_type": "code",
      "source": "pd.isnull(pd.Series([1, np.nan, 0]))",
      "metadata": {
        "trusted": true
      },
      "outputs": [
        {
          "execution_count": 5,
          "output_type": "execute_result",
          "data": {
            "text/plain": "0    False\n1     True\n2    False\ndtype: bool"
          },
          "metadata": {}
        }
      ],
      "execution_count": 5
    },
    {
      "id": "431c1197-2b5d-4bbb-8c0b-c9ffde607726",
      "cell_type": "code",
      "source": "s = pd.Series([1, 2, 3, np.nan, 4])\npd.isnull(s)",
      "metadata": {
        "trusted": true
      },
      "outputs": [
        {
          "execution_count": 4,
          "output_type": "execute_result",
          "data": {
            "text/plain": "0    False\n1    False\n2    False\n3     True\n4    False\ndtype: bool"
          },
          "metadata": {}
        }
      ],
      "execution_count": 4
    },
    {
      "id": "a2969e63-e5ea-42c1-9ca0-4aaa56be143a",
      "cell_type": "code",
      "source": "s[pd.notna(s)]",
      "metadata": {
        "trusted": true
      },
      "outputs": [
        {
          "execution_count": 5,
          "output_type": "execute_result",
          "data": {
            "text/plain": "0    1.0\n1    2.0\n2    3.0\n4    4.0\ndtype: float64"
          },
          "metadata": {}
        }
      ],
      "execution_count": 5
    },
    {
      "id": "ec39b97b-7c71-49b4-8396-0d982671e4a2",
      "cell_type": "code",
      "source": "s.dropna() #equal to the string above",
      "metadata": {
        "trusted": true
      },
      "outputs": [
        {
          "execution_count": 15,
          "output_type": "execute_result",
          "data": {
            "text/plain": "0    1.0\n1    2.0\n2    3.0\n4    4.0\ndtype: float64"
          },
          "metadata": {}
        }
      ],
      "execution_count": 15
    },
    {
      "id": "2bdb52b3-57b4-4a57-9ac8-aa90bfb47b39",
      "cell_type": "code",
      "source": "s.mean()",
      "metadata": {
        "trusted": true
      },
      "outputs": [
        {
          "execution_count": 16,
          "output_type": "execute_result",
          "data": {
            "text/plain": "np.float64(2.5)"
          },
          "metadata": {}
        }
      ],
      "execution_count": 16
    },
    {
      "id": "7aa097a6-c5da-41e9-a5c5-f6070ac0d2e9",
      "cell_type": "code",
      "source": "s",
      "metadata": {
        "trusted": true
      },
      "outputs": [
        {
          "execution_count": 17,
          "output_type": "execute_result",
          "data": {
            "text/plain": "0    1.0\n1    2.0\n2    3.0\n3    NaN\n4    4.0\ndtype: float64"
          },
          "metadata": {}
        }
      ],
      "execution_count": 17
    },
    {
      "id": "e7aa2b5a-83f6-4c43-bd9f-78323397d8ad",
      "cell_type": "code",
      "source": "s.fillna(0)\ns",
      "metadata": {
        "trusted": true
      },
      "outputs": [
        {
          "execution_count": 7,
          "output_type": "execute_result",
          "data": {
            "text/plain": "0    1.0\n1    2.0\n2    3.0\n3    NaN\n4    4.0\ndtype: float64"
          },
          "metadata": {}
        }
      ],
      "execution_count": 7
    },
    {
      "id": "d231b814-c379-41ab-98d5-6f6fd79d624e",
      "cell_type": "code",
      "source": "s.ffill()",
      "metadata": {
        "trusted": true
      },
      "outputs": [
        {
          "execution_count": 29,
          "output_type": "execute_result",
          "data": {
            "text/plain": "0    1.0\n1    2.0\n2    3.0\n3    3.0\n4    4.0\ndtype: float64"
          },
          "metadata": {}
        }
      ],
      "execution_count": 29
    },
    {
      "id": "e3246ed9-06e7-43f6-8a70-a3713bbbd649",
      "cell_type": "code",
      "source": "df = pd.DataFrame({'Sex' : ['M','F', 'D', '?'], 'Age' : [29, 30, 159, 24]})\ndf",
      "metadata": {
        "trusted": true
      },
      "outputs": [
        {
          "execution_count": 32,
          "output_type": "execute_result",
          "data": {
            "text/plain": "  Sex  Age\n0   M   29\n1   F   30\n2   D  159\n3   ?   24",
            "text/html": "<div>\n<style scoped>\n    .dataframe tbody tr th:only-of-type {\n        vertical-align: middle;\n    }\n\n    .dataframe tbody tr th {\n        vertical-align: top;\n    }\n\n    .dataframe thead th {\n        text-align: right;\n    }\n</style>\n<table border=\"1\" class=\"dataframe\">\n  <thead>\n    <tr style=\"text-align: right;\">\n      <th></th>\n      <th>Sex</th>\n      <th>Age</th>\n    </tr>\n  </thead>\n  <tbody>\n    <tr>\n      <th>0</th>\n      <td>M</td>\n      <td>29</td>\n    </tr>\n    <tr>\n      <th>1</th>\n      <td>F</td>\n      <td>30</td>\n    </tr>\n    <tr>\n      <th>2</th>\n      <td>D</td>\n      <td>159</td>\n    </tr>\n    <tr>\n      <th>3</th>\n      <td>?</td>\n      <td>24</td>\n    </tr>\n  </tbody>\n</table>\n</div>"
          },
          "metadata": {}
        }
      ],
      "execution_count": 32
    },
    {
      "id": "995ee584-bf76-485e-9ca5-2a3d881e2b94",
      "cell_type": "code",
      "source": "df['Sex'].unique()",
      "metadata": {
        "trusted": true
      },
      "outputs": [
        {
          "execution_count": 33,
          "output_type": "execute_result",
          "data": {
            "text/plain": "array(['M', 'F', 'D', '?'], dtype=object)"
          },
          "metadata": {}
        }
      ],
      "execution_count": 33
    },
    {
      "id": "7746d89b-c824-4c9b-8022-9d012bdc21c7",
      "cell_type": "code",
      "source": "df['Sex'].value_counts()",
      "metadata": {
        "trusted": true
      },
      "outputs": [
        {
          "execution_count": 38,
          "output_type": "execute_result",
          "data": {
            "text/plain": "Sex\nM    1\nF    1\nD    1\n?    1\nName: count, dtype: int64"
          },
          "metadata": {}
        }
      ],
      "execution_count": 38
    },
    {
      "id": "05c436a0-e950-410c-ae8b-da18fe2d1fcc",
      "cell_type": "code",
      "source": "df = df.replace({'Sex' : {'D' : 'F'}, 'Age' : {159 : 16}})",
      "metadata": {
        "trusted": true
      },
      "outputs": [],
      "execution_count": 41
    },
    {
      "id": "8c351190-dff0-4cdb-99d7-f2f7ee02ecd4",
      "cell_type": "code",
      "source": "df",
      "metadata": {
        "trusted": true
      },
      "outputs": [
        {
          "execution_count": 42,
          "output_type": "execute_result",
          "data": {
            "text/plain": "  Sex  Age\n0   M   29\n1   F   30\n2   F   16\n3   ?   24",
            "text/html": "<div>\n<style scoped>\n    .dataframe tbody tr th:only-of-type {\n        vertical-align: middle;\n    }\n\n    .dataframe tbody tr th {\n        vertical-align: top;\n    }\n\n    .dataframe thead th {\n        text-align: right;\n    }\n</style>\n<table border=\"1\" class=\"dataframe\">\n  <thead>\n    <tr style=\"text-align: right;\">\n      <th></th>\n      <th>Sex</th>\n      <th>Age</th>\n    </tr>\n  </thead>\n  <tbody>\n    <tr>\n      <th>0</th>\n      <td>M</td>\n      <td>29</td>\n    </tr>\n    <tr>\n      <th>1</th>\n      <td>F</td>\n      <td>30</td>\n    </tr>\n    <tr>\n      <th>2</th>\n      <td>F</td>\n      <td>16</td>\n    </tr>\n    <tr>\n      <th>3</th>\n      <td>?</td>\n      <td>24</td>\n    </tr>\n  </tbody>\n</table>\n</div>"
          },
          "metadata": {}
        }
      ],
      "execution_count": 42
    },
    {
      "id": "cdc93537-0afc-4c1f-9651-08a3cebade70",
      "cell_type": "code",
      "source": "ambassadors = pd.Series(['FR','GER','GER','UK','UK'], index = ['Gerard Araud', 'Kim Darroch', 'Peter Westmaccot', 'Klaus Sharioth', 'Peter Amon'])",
      "metadata": {
        "trusted": true
      },
      "outputs": [],
      "execution_count": 43
    },
    {
      "id": "e5ed97d1-96af-4a0c-9453-570000faff27",
      "cell_type": "code",
      "source": "ambassadors",
      "metadata": {
        "trusted": true
      },
      "outputs": [
        {
          "execution_count": 44,
          "output_type": "execute_result",
          "data": {
            "text/plain": "Gerard Araud         FR\nKim Darroch         GER\nPeter Westmaccot    GER\nKlaus Sharioth       UK\nPeter Amon           UK\ndtype: object"
          },
          "metadata": {}
        }
      ],
      "execution_count": 44
    },
    {
      "id": "1120a61e-c19a-4c67-965c-27e63e0b5dea",
      "cell_type": "code",
      "source": "ambassadors.duplicated()",
      "metadata": {
        "trusted": true
      },
      "outputs": [
        {
          "execution_count": 46,
          "output_type": "execute_result",
          "data": {
            "text/plain": "Gerard Araud        False\nKim Darroch         False\nPeter Westmaccot     True\nKlaus Sharioth      False\nPeter Amon           True\ndtype: bool"
          },
          "metadata": {}
        }
      ],
      "execution_count": 46
    },
    {
      "id": "9aca9e0b-fd9d-464f-a53e-861a15ce375d",
      "cell_type": "code",
      "source": "ambassadors.duplicated(keep = False)",
      "metadata": {
        "trusted": true
      },
      "outputs": [
        {
          "execution_count": 47,
          "output_type": "execute_result",
          "data": {
            "text/plain": "Gerard Araud        False\nKim Darroch          True\nPeter Westmaccot     True\nKlaus Sharioth       True\nPeter Amon           True\ndtype: bool"
          },
          "metadata": {}
        }
      ],
      "execution_count": 47
    },
    {
      "id": "ddea785a-e674-465c-be5c-fdd67297cadf",
      "cell_type": "code",
      "source": "ambassadors.drop_duplicates()",
      "metadata": {
        "trusted": true
      },
      "outputs": [
        {
          "execution_count": 48,
          "output_type": "execute_result",
          "data": {
            "text/plain": "Gerard Araud       FR\nKim Darroch       GER\nKlaus Sharioth     UK\ndtype: object"
          },
          "metadata": {}
        }
      ],
      "execution_count": 48
    },
    {
      "id": "05936533-13aa-4a91-b15a-ceaf040665b6",
      "cell_type": "code",
      "source": "ambassadors.drop_duplicates(keep = 'last')",
      "metadata": {
        "trusted": true
      },
      "outputs": [
        {
          "execution_count": 49,
          "output_type": "execute_result",
          "data": {
            "text/plain": "Gerard Araud         FR\nPeter Westmaccot    GER\nPeter Amon           UK\ndtype: object"
          },
          "metadata": {}
        }
      ],
      "execution_count": 49
    },
    {
      "id": "dc541b17-1191-4b8b-8b7c-c31f4047750d",
      "cell_type": "code",
      "source": "df = pd.DataFrame({'Data' : ['1987_M_US _1', '1990?_M_UK_1', '1985_F_I T_2']})\ndf",
      "metadata": {
        "trusted": true
      },
      "outputs": [
        {
          "execution_count": 67,
          "output_type": "execute_result",
          "data": {
            "text/plain": "           Data\n0  1987_M_US _1\n1  1990?_M_UK_1\n2  1985_F_I T_2",
            "text/html": "<div>\n<style scoped>\n    .dataframe tbody tr th:only-of-type {\n        vertical-align: middle;\n    }\n\n    .dataframe tbody tr th {\n        vertical-align: top;\n    }\n\n    .dataframe thead th {\n        text-align: right;\n    }\n</style>\n<table border=\"1\" class=\"dataframe\">\n  <thead>\n    <tr style=\"text-align: right;\">\n      <th></th>\n      <th>Data</th>\n    </tr>\n  </thead>\n  <tbody>\n    <tr>\n      <th>0</th>\n      <td>1987_M_US _1</td>\n    </tr>\n    <tr>\n      <th>1</th>\n      <td>1990?_M_UK_1</td>\n    </tr>\n    <tr>\n      <th>2</th>\n      <td>1985_F_I T_2</td>\n    </tr>\n  </tbody>\n</table>\n</div>"
          },
          "metadata": {}
        }
      ],
      "execution_count": 67
    },
    {
      "id": "40ea7180-2048-4420-b903-30684b753c3a",
      "cell_type": "code",
      "source": "df['Data'].str.split('_')",
      "metadata": {
        "trusted": true
      },
      "outputs": [
        {
          "execution_count": 68,
          "output_type": "execute_result",
          "data": {
            "text/plain": "0    [1987, M, US , 1]\n1    [1990?, M, UK, 1]\n2    [1985, F, I T, 2]\nName: Data, dtype: object"
          },
          "metadata": {}
        }
      ],
      "execution_count": 68
    },
    {
      "id": "ee04d60f-50ff-4e5d-8cf1-4ff8b0318917",
      "cell_type": "code",
      "source": "df['Data'].str.split('_', expand = True)",
      "metadata": {
        "trusted": true
      },
      "outputs": [
        {
          "execution_count": 69,
          "output_type": "execute_result",
          "data": {
            "text/plain": "       0  1    2  3\n0   1987  M  US   1\n1  1990?  M   UK  1\n2   1985  F  I T  2",
            "text/html": "<div>\n<style scoped>\n    .dataframe tbody tr th:only-of-type {\n        vertical-align: middle;\n    }\n\n    .dataframe tbody tr th {\n        vertical-align: top;\n    }\n\n    .dataframe thead th {\n        text-align: right;\n    }\n</style>\n<table border=\"1\" class=\"dataframe\">\n  <thead>\n    <tr style=\"text-align: right;\">\n      <th></th>\n      <th>0</th>\n      <th>1</th>\n      <th>2</th>\n      <th>3</th>\n    </tr>\n  </thead>\n  <tbody>\n    <tr>\n      <th>0</th>\n      <td>1987</td>\n      <td>M</td>\n      <td>US</td>\n      <td>1</td>\n    </tr>\n    <tr>\n      <th>1</th>\n      <td>1990?</td>\n      <td>M</td>\n      <td>UK</td>\n      <td>1</td>\n    </tr>\n    <tr>\n      <th>2</th>\n      <td>1985</td>\n      <td>F</td>\n      <td>I T</td>\n      <td>2</td>\n    </tr>\n  </tbody>\n</table>\n</div>"
          },
          "metadata": {}
        }
      ],
      "execution_count": 69
    },
    {
      "id": "bf7907a4-0853-44ef-a2c0-ee2eac3bf282",
      "cell_type": "code",
      "source": "df = df['Data'].str.split('_', expand = True)",
      "metadata": {
        "trusted": true
      },
      "outputs": [],
      "execution_count": 70
    },
    {
      "id": "48e04d0c-8247-464a-a501-9a6387b1df3a",
      "cell_type": "code",
      "source": "df",
      "metadata": {
        "trusted": true
      },
      "outputs": [
        {
          "execution_count": 71,
          "output_type": "execute_result",
          "data": {
            "text/plain": "       0  1    2  3\n0   1987  M  US   1\n1  1990?  M   UK  1\n2   1985  F  I T  2",
            "text/html": "<div>\n<style scoped>\n    .dataframe tbody tr th:only-of-type {\n        vertical-align: middle;\n    }\n\n    .dataframe tbody tr th {\n        vertical-align: top;\n    }\n\n    .dataframe thead th {\n        text-align: right;\n    }\n</style>\n<table border=\"1\" class=\"dataframe\">\n  <thead>\n    <tr style=\"text-align: right;\">\n      <th></th>\n      <th>0</th>\n      <th>1</th>\n      <th>2</th>\n      <th>3</th>\n    </tr>\n  </thead>\n  <tbody>\n    <tr>\n      <th>0</th>\n      <td>1987</td>\n      <td>M</td>\n      <td>US</td>\n      <td>1</td>\n    </tr>\n    <tr>\n      <th>1</th>\n      <td>1990?</td>\n      <td>M</td>\n      <td>UK</td>\n      <td>1</td>\n    </tr>\n    <tr>\n      <th>2</th>\n      <td>1985</td>\n      <td>F</td>\n      <td>I T</td>\n      <td>2</td>\n    </tr>\n  </tbody>\n</table>\n</div>"
          },
          "metadata": {}
        }
      ],
      "execution_count": 71
    },
    {
      "id": "06b61dea-5225-40eb-af90-d14b879b76ab",
      "cell_type": "code",
      "source": "df.columns = ['Year', 'Sex', 'Country', 'Number of crimes']",
      "metadata": {
        "trusted": true
      },
      "outputs": [],
      "execution_count": 72
    },
    {
      "id": "80d2d316-5aa8-4987-ac17-3e4e2916b8e4",
      "cell_type": "code",
      "source": "df",
      "metadata": {
        "trusted": true
      },
      "outputs": [
        {
          "execution_count": 73,
          "output_type": "execute_result",
          "data": {
            "text/plain": "    Year Sex Country Number of crimes\n0   1987   M     US                 1\n1  1990?   M      UK                1\n2   1985   F     I T                2",
            "text/html": "<div>\n<style scoped>\n    .dataframe tbody tr th:only-of-type {\n        vertical-align: middle;\n    }\n\n    .dataframe tbody tr th {\n        vertical-align: top;\n    }\n\n    .dataframe thead th {\n        text-align: right;\n    }\n</style>\n<table border=\"1\" class=\"dataframe\">\n  <thead>\n    <tr style=\"text-align: right;\">\n      <th></th>\n      <th>Year</th>\n      <th>Sex</th>\n      <th>Country</th>\n      <th>Number of crimes</th>\n    </tr>\n  </thead>\n  <tbody>\n    <tr>\n      <th>0</th>\n      <td>1987</td>\n      <td>M</td>\n      <td>US</td>\n      <td>1</td>\n    </tr>\n    <tr>\n      <th>1</th>\n      <td>1990?</td>\n      <td>M</td>\n      <td>UK</td>\n      <td>1</td>\n    </tr>\n    <tr>\n      <th>2</th>\n      <td>1985</td>\n      <td>F</td>\n      <td>I T</td>\n      <td>2</td>\n    </tr>\n  </tbody>\n</table>\n</div>"
          },
          "metadata": {}
        }
      ],
      "execution_count": 73
    },
    {
      "id": "470a9feb-9364-4494-962f-c40447a329b0",
      "cell_type": "code",
      "source": "df['Year'].str.contains('\\?')",
      "metadata": {
        "trusted": true
      },
      "outputs": [
        {
          "name": "stderr",
          "output_type": "stream",
          "text": "<unknown>:1: SyntaxWarning: invalid escape sequence '\\?'\n<>:1: SyntaxWarning: invalid escape sequence '\\?'\n<>:1: SyntaxWarning: invalid escape sequence '\\?'\n<ipython-input-74-1fce2201acc9>:1: SyntaxWarning: invalid escape sequence '\\?'\n  df['Year'].str.contains('\\?')\n"
        },
        {
          "execution_count": 74,
          "output_type": "execute_result",
          "data": {
            "text/plain": "0    False\n1     True\n2    False\nName: Year, dtype: bool"
          },
          "metadata": {}
        }
      ],
      "execution_count": 74
    },
    {
      "id": "1e637b0a-de66-46ab-a561-9899544ff302",
      "cell_type": "code",
      "source": "df['Year'].str.replace('?', '')\n",
      "metadata": {
        "trusted": true
      },
      "outputs": [
        {
          "execution_count": 75,
          "output_type": "execute_result",
          "data": {
            "text/plain": "0    1987\n1    1990\n2    1985\nName: Year, dtype: object"
          },
          "metadata": {}
        }
      ],
      "execution_count": 75
    },
    {
      "id": "9a707f55-218b-4c99-978f-5b8ea94c3c9e",
      "cell_type": "code",
      "source": "df['Country'].str.strip()",
      "metadata": {
        "trusted": true
      },
      "outputs": [
        {
          "execution_count": 76,
          "output_type": "execute_result",
          "data": {
            "text/plain": "0     US\n1     UK\n2    I T\nName: Country, dtype: object"
          },
          "metadata": {}
        }
      ],
      "execution_count": 76
    },
    {
      "id": "00fe1f24-bf2d-48d2-aef4-337c27e6d80e",
      "cell_type": "code",
      "source": "df['Year'].str.replace(r'(?P<year>\\d{2})\\?', lambda m: m.group('year'))",
      "metadata": {
        "trusted": true
      },
      "outputs": [
        {
          "ename": "<class 'ValueError'>",
          "evalue": "Cannot use a callable replacement when regex=False",
          "traceback": [
            "\u001b[0;31m---------------------------------------------------------------------------\u001b[0m",
            "\u001b[0;31mValueError\u001b[0m                                Traceback (most recent call last)",
            "Cell \u001b[0;32mIn[78], line 1\u001b[0m\n\u001b[0;32m----> 1\u001b[0m \u001b[43mdf\u001b[49m\u001b[43m[\u001b[49m\u001b[38;5;124;43m'\u001b[39;49m\u001b[38;5;124;43mYear\u001b[39;49m\u001b[38;5;124;43m'\u001b[39;49m\u001b[43m]\u001b[49m\u001b[38;5;241;43m.\u001b[39;49m\u001b[43mstr\u001b[49m\u001b[38;5;241;43m.\u001b[39;49m\u001b[43mreplace\u001b[49m\u001b[43m(\u001b[49m\u001b[38;5;124;43mr\u001b[39;49m\u001b[38;5;124;43m'\u001b[39;49m\u001b[38;5;124;43m(?P<year>\u001b[39;49m\u001b[38;5;124;43m\\\u001b[39;49m\u001b[38;5;124;43md\u001b[39;49m\u001b[38;5;132;43;01m{2}\u001b[39;49;00m\u001b[38;5;124;43m)\u001b[39;49m\u001b[38;5;124;43m\\\u001b[39;49m\u001b[38;5;124;43m?\u001b[39;49m\u001b[38;5;124;43m'\u001b[39;49m\u001b[43m,\u001b[49m\u001b[43m \u001b[49m\u001b[38;5;28;43;01mlambda\u001b[39;49;00m\u001b[43m \u001b[49m\u001b[43mm\u001b[49m\u001b[43m:\u001b[49m\u001b[43m \u001b[49m\u001b[43mm\u001b[49m\u001b[38;5;241;43m.\u001b[39;49m\u001b[43mgroup\u001b[49m\u001b[43m(\u001b[49m\u001b[38;5;124;43m'\u001b[39;49m\u001b[38;5;124;43myear\u001b[39;49m\u001b[38;5;124;43m'\u001b[39;49m\u001b[43m)\u001b[49m\u001b[43m)\u001b[49m\n",
            "File \u001b[0;32m/lib/python3.12/site-packages/pandas/core/strings/accessor.py:137\u001b[0m, in \u001b[0;36mforbid_nonstring_types.<locals>._forbid_nonstring_types.<locals>.wrapper\u001b[0;34m(self, *args, **kwargs)\u001b[0m\n\u001b[1;32m    132\u001b[0m     msg \u001b[38;5;241m=\u001b[39m (\n\u001b[1;32m    133\u001b[0m         \u001b[38;5;124mf\u001b[39m\u001b[38;5;124m\"\u001b[39m\u001b[38;5;124mCannot use .str.\u001b[39m\u001b[38;5;132;01m{\u001b[39;00mfunc_name\u001b[38;5;132;01m}\u001b[39;00m\u001b[38;5;124m with values of \u001b[39m\u001b[38;5;124m\"\u001b[39m\n\u001b[1;32m    134\u001b[0m         \u001b[38;5;124mf\u001b[39m\u001b[38;5;124m\"\u001b[39m\u001b[38;5;124minferred dtype \u001b[39m\u001b[38;5;124m'\u001b[39m\u001b[38;5;132;01m{\u001b[39;00m\u001b[38;5;28mself\u001b[39m\u001b[38;5;241m.\u001b[39m_inferred_dtype\u001b[38;5;132;01m}\u001b[39;00m\u001b[38;5;124m'\u001b[39m\u001b[38;5;124m.\u001b[39m\u001b[38;5;124m\"\u001b[39m\n\u001b[1;32m    135\u001b[0m     )\n\u001b[1;32m    136\u001b[0m     \u001b[38;5;28;01mraise\u001b[39;00m \u001b[38;5;167;01mTypeError\u001b[39;00m(msg)\n\u001b[0;32m--> 137\u001b[0m \u001b[38;5;28;01mreturn\u001b[39;00m \u001b[43mfunc\u001b[49m\u001b[43m(\u001b[49m\u001b[38;5;28;43mself\u001b[39;49m\u001b[43m,\u001b[49m\u001b[43m \u001b[49m\u001b[38;5;241;43m*\u001b[39;49m\u001b[43margs\u001b[49m\u001b[43m,\u001b[49m\u001b[43m \u001b[49m\u001b[38;5;241;43m*\u001b[39;49m\u001b[38;5;241;43m*\u001b[39;49m\u001b[43mkwargs\u001b[49m\u001b[43m)\u001b[49m\n",
            "File \u001b[0;32m/lib/python3.12/site-packages/pandas/core/strings/accessor.py:1562\u001b[0m, in \u001b[0;36mStringMethods.replace\u001b[0;34m(self, pat, repl, n, case, flags, regex)\u001b[0m\n\u001b[1;32m   1558\u001b[0m     \u001b[38;5;28;01mraise\u001b[39;00m \u001b[38;5;167;01mValueError\u001b[39;00m(\n\u001b[1;32m   1559\u001b[0m         \u001b[38;5;124m\"\u001b[39m\u001b[38;5;124mCannot use a compiled regex as replacement pattern with regex=False\u001b[39m\u001b[38;5;124m\"\u001b[39m\n\u001b[1;32m   1560\u001b[0m     )\n\u001b[1;32m   1561\u001b[0m \u001b[38;5;28;01melif\u001b[39;00m \u001b[38;5;28mcallable\u001b[39m(repl):\n\u001b[0;32m-> 1562\u001b[0m     \u001b[38;5;28;01mraise\u001b[39;00m \u001b[38;5;167;01mValueError\u001b[39;00m(\u001b[38;5;124m\"\u001b[39m\u001b[38;5;124mCannot use a callable replacement when regex=False\u001b[39m\u001b[38;5;124m\"\u001b[39m)\n\u001b[1;32m   1564\u001b[0m \u001b[38;5;28;01mif\u001b[39;00m case \u001b[38;5;129;01mis\u001b[39;00m \u001b[38;5;28;01mNone\u001b[39;00m:\n\u001b[1;32m   1565\u001b[0m     case \u001b[38;5;241m=\u001b[39m \u001b[38;5;28;01mTrue\u001b[39;00m\n",
            "\u001b[0;31mValueError\u001b[0m: Cannot use a callable replacement when regex=False"
          ],
          "output_type": "error"
        }
      ],
      "execution_count": 78
    },
    {
      "id": "f784f0ca-c1e8-4b05-9c90-f1d8ec3a4e11",
      "cell_type": "code",
      "source": "",
      "metadata": {
        "trusted": true
      },
      "outputs": [],
      "execution_count": null
    }
  ]
}