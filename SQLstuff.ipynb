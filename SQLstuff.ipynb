{
  "metadata": {
    "kernelspec": {
      "name": "python",
      "display_name": "Python (Pyodide)",
      "language": "python"
    },
    "language_info": {
      "codemirror_mode": {
        "name": "python",
        "version": 3
      },
      "file_extension": ".py",
      "mimetype": "text/x-python",
      "name": "python",
      "nbconvert_exporter": "python",
      "pygments_lexer": "ipython3",
      "version": "3.8"
    }
  },
  "nbformat_minor": 5,
  "nbformat": 4,
  "cells": [
    {
      "id": "7339c35e-115b-445c-a01e-4d63287c3b47",
      "cell_type": "code",
      "source": "import sqlite3\nimport pandas as pd",
      "metadata": {
        "trusted": true
      },
      "outputs": [],
      "execution_count": 9
    },
    {
      "id": "2ff035e6-2346-4d5f-8010-03a2cac5b0fa",
      "cell_type": "code",
      "source": "conn = sqlite3.connect('chinook.db')",
      "metadata": {
        "trusted": true
      },
      "outputs": [],
      "execution_count": 2
    },
    {
      "id": "d7704f38-4497-494b-b456-f5348ae8a762",
      "cell_type": "code",
      "source": "cur =conn.cursor()",
      "metadata": {
        "trusted": true
      },
      "outputs": [],
      "execution_count": 3
    },
    {
      "id": "08a18602-df78-401d-adb5-5baddd9d5f36",
      "cell_type": "code",
      "source": "cur.execute('SELECT * FROM employees LIMIT 5;')",
      "metadata": {
        "trusted": true
      },
      "outputs": [
        {
          "execution_count": 6,
          "output_type": "execute_result",
          "data": {
            "text/plain": "<sqlite3.Cursor at 0x25aedf0>"
          },
          "metadata": {}
        }
      ],
      "execution_count": 6
    },
    {
      "id": "b1c11adf-98eb-43cb-8657-3f573cd88e23",
      "cell_type": "code",
      "source": "results = cur.fetchall()\nresults",
      "metadata": {
        "trusted": true
      },
      "outputs": [
        {
          "execution_count": 7,
          "output_type": "execute_result",
          "data": {
            "text/plain": "[(1,\n  'Adams',\n  'Andrew',\n  'General Manager',\n  None,\n  '1962-02-18 00:00:00',\n  '2002-08-14 00:00:00',\n  '11120 Jasper Ave NW',\n  'Edmonton',\n  'AB',\n  'Canada',\n  'T5K 2N1',\n  '+1 (780) 428-9482',\n  '+1 (780) 428-3457',\n  'andrew@chinookcorp.com'),\n (2,\n  'Edwards',\n  'Nancy',\n  'Sales Manager',\n  1,\n  '1958-12-08 00:00:00',\n  '2002-05-01 00:00:00',\n  '825 8 Ave SW',\n  'Calgary',\n  'AB',\n  'Canada',\n  'T2P 2T3',\n  '+1 (403) 262-3443',\n  '+1 (403) 262-3322',\n  'nancy@chinookcorp.com'),\n (3,\n  'Peacock',\n  'Jane',\n  'Sales Support Agent',\n  2,\n  '1973-08-29 00:00:00',\n  '2002-04-01 00:00:00',\n  '1111 6 Ave SW',\n  'Calgary',\n  'AB',\n  'Canada',\n  'T2P 5M5',\n  '+1 (403) 262-3443',\n  '+1 (403) 262-6712',\n  'jane@chinookcorp.com'),\n (4,\n  'Park',\n  'Margaret',\n  'Sales Support Agent',\n  2,\n  '1947-09-19 00:00:00',\n  '2003-05-03 00:00:00',\n  '683 10 Street SW',\n  'Calgary',\n  'AB',\n  'Canada',\n  'T2P 5G3',\n  '+1 (403) 263-4423',\n  '+1 (403) 263-4289',\n  'margaret@chinookcorp.com'),\n (5,\n  'Johnson',\n  'Steve',\n  'Sales Support Agent',\n  2,\n  '1965-03-03 00:00:00',\n  '2003-10-17 00:00:00',\n  '7727B 41 Ave',\n  'Calgary',\n  'AB',\n  'Canada',\n  'T3B 1Y7',\n  '1 (780) 836-9987',\n  '1 (780) 836-9543',\n  'steve@chinookcorp.com')]"
          },
          "metadata": {}
        }
      ],
      "execution_count": 7
    },
    {
      "id": "fbf758b4-1a52-4fcb-9cad-01927c5a2342",
      "cell_type": "code",
      "source": "df = pd.DataFrame(results)\ndf",
      "metadata": {
        "trusted": true
      },
      "outputs": [
        {
          "execution_count": 11,
          "output_type": "execute_result",
          "data": {
            "text/plain": "   0        1         2                    3    4                    5   \\\n0   1    Adams    Andrew      General Manager  NaN  1962-02-18 00:00:00   \n1   2  Edwards     Nancy        Sales Manager  1.0  1958-12-08 00:00:00   \n2   3  Peacock      Jane  Sales Support Agent  2.0  1973-08-29 00:00:00   \n3   4     Park  Margaret  Sales Support Agent  2.0  1947-09-19 00:00:00   \n4   5  Johnson     Steve  Sales Support Agent  2.0  1965-03-03 00:00:00   \n\n                    6                    7         8   9       10       11  \\\n0  2002-08-14 00:00:00  11120 Jasper Ave NW  Edmonton  AB  Canada  T5K 2N1   \n1  2002-05-01 00:00:00         825 8 Ave SW   Calgary  AB  Canada  T2P 2T3   \n2  2002-04-01 00:00:00        1111 6 Ave SW   Calgary  AB  Canada  T2P 5M5   \n3  2003-05-03 00:00:00     683 10 Street SW   Calgary  AB  Canada  T2P 5G3   \n4  2003-10-17 00:00:00         7727B 41 Ave   Calgary  AB  Canada  T3B 1Y7   \n\n                  12                 13                        14  \n0  +1 (780) 428-9482  +1 (780) 428-3457    andrew@chinookcorp.com  \n1  +1 (403) 262-3443  +1 (403) 262-3322     nancy@chinookcorp.com  \n2  +1 (403) 262-3443  +1 (403) 262-6712      jane@chinookcorp.com  \n3  +1 (403) 263-4423  +1 (403) 263-4289  margaret@chinookcorp.com  \n4   1 (780) 836-9987   1 (780) 836-9543     steve@chinookcorp.com  ",
            "text/html": "<div>\n<style scoped>\n    .dataframe tbody tr th:only-of-type {\n        vertical-align: middle;\n    }\n\n    .dataframe tbody tr th {\n        vertical-align: top;\n    }\n\n    .dataframe thead th {\n        text-align: right;\n    }\n</style>\n<table border=\"1\" class=\"dataframe\">\n  <thead>\n    <tr style=\"text-align: right;\">\n      <th></th>\n      <th>0</th>\n      <th>1</th>\n      <th>2</th>\n      <th>3</th>\n      <th>4</th>\n      <th>5</th>\n      <th>6</th>\n      <th>7</th>\n      <th>8</th>\n      <th>9</th>\n      <th>10</th>\n      <th>11</th>\n      <th>12</th>\n      <th>13</th>\n      <th>14</th>\n    </tr>\n  </thead>\n  <tbody>\n    <tr>\n      <th>0</th>\n      <td>1</td>\n      <td>Adams</td>\n      <td>Andrew</td>\n      <td>General Manager</td>\n      <td>NaN</td>\n      <td>1962-02-18 00:00:00</td>\n      <td>2002-08-14 00:00:00</td>\n      <td>11120 Jasper Ave NW</td>\n      <td>Edmonton</td>\n      <td>AB</td>\n      <td>Canada</td>\n      <td>T5K 2N1</td>\n      <td>+1 (780) 428-9482</td>\n      <td>+1 (780) 428-3457</td>\n      <td>andrew@chinookcorp.com</td>\n    </tr>\n    <tr>\n      <th>1</th>\n      <td>2</td>\n      <td>Edwards</td>\n      <td>Nancy</td>\n      <td>Sales Manager</td>\n      <td>1.0</td>\n      <td>1958-12-08 00:00:00</td>\n      <td>2002-05-01 00:00:00</td>\n      <td>825 8 Ave SW</td>\n      <td>Calgary</td>\n      <td>AB</td>\n      <td>Canada</td>\n      <td>T2P 2T3</td>\n      <td>+1 (403) 262-3443</td>\n      <td>+1 (403) 262-3322</td>\n      <td>nancy@chinookcorp.com</td>\n    </tr>\n    <tr>\n      <th>2</th>\n      <td>3</td>\n      <td>Peacock</td>\n      <td>Jane</td>\n      <td>Sales Support Agent</td>\n      <td>2.0</td>\n      <td>1973-08-29 00:00:00</td>\n      <td>2002-04-01 00:00:00</td>\n      <td>1111 6 Ave SW</td>\n      <td>Calgary</td>\n      <td>AB</td>\n      <td>Canada</td>\n      <td>T2P 5M5</td>\n      <td>+1 (403) 262-3443</td>\n      <td>+1 (403) 262-6712</td>\n      <td>jane@chinookcorp.com</td>\n    </tr>\n    <tr>\n      <th>3</th>\n      <td>4</td>\n      <td>Park</td>\n      <td>Margaret</td>\n      <td>Sales Support Agent</td>\n      <td>2.0</td>\n      <td>1947-09-19 00:00:00</td>\n      <td>2003-05-03 00:00:00</td>\n      <td>683 10 Street SW</td>\n      <td>Calgary</td>\n      <td>AB</td>\n      <td>Canada</td>\n      <td>T2P 5G3</td>\n      <td>+1 (403) 263-4423</td>\n      <td>+1 (403) 263-4289</td>\n      <td>margaret@chinookcorp.com</td>\n    </tr>\n    <tr>\n      <th>4</th>\n      <td>5</td>\n      <td>Johnson</td>\n      <td>Steve</td>\n      <td>Sales Support Agent</td>\n      <td>2.0</td>\n      <td>1965-03-03 00:00:00</td>\n      <td>2003-10-17 00:00:00</td>\n      <td>7727B 41 Ave</td>\n      <td>Calgary</td>\n      <td>AB</td>\n      <td>Canada</td>\n      <td>T3B 1Y7</td>\n      <td>1 (780) 836-9987</td>\n      <td>1 (780) 836-9543</td>\n      <td>steve@chinookcorp.com</td>\n    </tr>\n  </tbody>\n</table>\n</div>"
          },
          "metadata": {}
        }
      ],
      "execution_count": 11
    },
    {
      "id": "5bd7e4b3-0bcd-4bf2-a7e0-95d280342e13",
      "cell_type": "code",
      "source": "cur.close()\nconn.close()",
      "metadata": {
        "trusted": true
      },
      "outputs": [],
      "execution_count": 12
    },
    {
      "id": "74999435-0bd6-4fac-9e5a-7b431cf36fdc",
      "cell_type": "code",
      "source": "conn = sqlite3.connect('chinook.db')\ndf = pd.read_sql('SELECT * FROM employees', conn)\ndf.head()",
      "metadata": {
        "trusted": true
      },
      "outputs": [
        {
          "execution_count": 13,
          "output_type": "execute_result",
          "data": {
            "text/plain": "   EmployeeId LastName FirstName                Title  ReportsTo  \\\n0           1    Adams    Andrew      General Manager        NaN   \n1           2  Edwards     Nancy        Sales Manager        1.0   \n2           3  Peacock      Jane  Sales Support Agent        2.0   \n3           4     Park  Margaret  Sales Support Agent        2.0   \n4           5  Johnson     Steve  Sales Support Agent        2.0   \n\n             BirthDate             HireDate              Address      City  \\\n0  1962-02-18 00:00:00  2002-08-14 00:00:00  11120 Jasper Ave NW  Edmonton   \n1  1958-12-08 00:00:00  2002-05-01 00:00:00         825 8 Ave SW   Calgary   \n2  1973-08-29 00:00:00  2002-04-01 00:00:00        1111 6 Ave SW   Calgary   \n3  1947-09-19 00:00:00  2003-05-03 00:00:00     683 10 Street SW   Calgary   \n4  1965-03-03 00:00:00  2003-10-17 00:00:00         7727B 41 Ave   Calgary   \n\n  State Country PostalCode              Phone                Fax  \\\n0    AB  Canada    T5K 2N1  +1 (780) 428-9482  +1 (780) 428-3457   \n1    AB  Canada    T2P 2T3  +1 (403) 262-3443  +1 (403) 262-3322   \n2    AB  Canada    T2P 5M5  +1 (403) 262-3443  +1 (403) 262-6712   \n3    AB  Canada    T2P 5G3  +1 (403) 263-4423  +1 (403) 263-4289   \n4    AB  Canada    T3B 1Y7   1 (780) 836-9987   1 (780) 836-9543   \n\n                      Email  \n0    andrew@chinookcorp.com  \n1     nancy@chinookcorp.com  \n2      jane@chinookcorp.com  \n3  margaret@chinookcorp.com  \n4     steve@chinookcorp.com  ",
            "text/html": "<div>\n<style scoped>\n    .dataframe tbody tr th:only-of-type {\n        vertical-align: middle;\n    }\n\n    .dataframe tbody tr th {\n        vertical-align: top;\n    }\n\n    .dataframe thead th {\n        text-align: right;\n    }\n</style>\n<table border=\"1\" class=\"dataframe\">\n  <thead>\n    <tr style=\"text-align: right;\">\n      <th></th>\n      <th>EmployeeId</th>\n      <th>LastName</th>\n      <th>FirstName</th>\n      <th>Title</th>\n      <th>ReportsTo</th>\n      <th>BirthDate</th>\n      <th>HireDate</th>\n      <th>Address</th>\n      <th>City</th>\n      <th>State</th>\n      <th>Country</th>\n      <th>PostalCode</th>\n      <th>Phone</th>\n      <th>Fax</th>\n      <th>Email</th>\n    </tr>\n  </thead>\n  <tbody>\n    <tr>\n      <th>0</th>\n      <td>1</td>\n      <td>Adams</td>\n      <td>Andrew</td>\n      <td>General Manager</td>\n      <td>NaN</td>\n      <td>1962-02-18 00:00:00</td>\n      <td>2002-08-14 00:00:00</td>\n      <td>11120 Jasper Ave NW</td>\n      <td>Edmonton</td>\n      <td>AB</td>\n      <td>Canada</td>\n      <td>T5K 2N1</td>\n      <td>+1 (780) 428-9482</td>\n      <td>+1 (780) 428-3457</td>\n      <td>andrew@chinookcorp.com</td>\n    </tr>\n    <tr>\n      <th>1</th>\n      <td>2</td>\n      <td>Edwards</td>\n      <td>Nancy</td>\n      <td>Sales Manager</td>\n      <td>1.0</td>\n      <td>1958-12-08 00:00:00</td>\n      <td>2002-05-01 00:00:00</td>\n      <td>825 8 Ave SW</td>\n      <td>Calgary</td>\n      <td>AB</td>\n      <td>Canada</td>\n      <td>T2P 2T3</td>\n      <td>+1 (403) 262-3443</td>\n      <td>+1 (403) 262-3322</td>\n      <td>nancy@chinookcorp.com</td>\n    </tr>\n    <tr>\n      <th>2</th>\n      <td>3</td>\n      <td>Peacock</td>\n      <td>Jane</td>\n      <td>Sales Support Agent</td>\n      <td>2.0</td>\n      <td>1973-08-29 00:00:00</td>\n      <td>2002-04-01 00:00:00</td>\n      <td>1111 6 Ave SW</td>\n      <td>Calgary</td>\n      <td>AB</td>\n      <td>Canada</td>\n      <td>T2P 5M5</td>\n      <td>+1 (403) 262-3443</td>\n      <td>+1 (403) 262-6712</td>\n      <td>jane@chinookcorp.com</td>\n    </tr>\n    <tr>\n      <th>3</th>\n      <td>4</td>\n      <td>Park</td>\n      <td>Margaret</td>\n      <td>Sales Support Agent</td>\n      <td>2.0</td>\n      <td>1947-09-19 00:00:00</td>\n      <td>2003-05-03 00:00:00</td>\n      <td>683 10 Street SW</td>\n      <td>Calgary</td>\n      <td>AB</td>\n      <td>Canada</td>\n      <td>T2P 5G3</td>\n      <td>+1 (403) 263-4423</td>\n      <td>+1 (403) 263-4289</td>\n      <td>margaret@chinookcorp.com</td>\n    </tr>\n    <tr>\n      <th>4</th>\n      <td>5</td>\n      <td>Johnson</td>\n      <td>Steve</td>\n      <td>Sales Support Agent</td>\n      <td>2.0</td>\n      <td>1965-03-03 00:00:00</td>\n      <td>2003-10-17 00:00:00</td>\n      <td>7727B 41 Ave</td>\n      <td>Calgary</td>\n      <td>AB</td>\n      <td>Canada</td>\n      <td>T3B 1Y7</td>\n      <td>1 (780) 836-9987</td>\n      <td>1 (780) 836-9543</td>\n      <td>steve@chinookcorp.com</td>\n    </tr>\n  </tbody>\n</table>\n</div>"
          },
          "metadata": {}
        }
      ],
      "execution_count": 13
    },
    {
      "id": "8e89a0c2-72a8-495c-8034-47b52122e712",
      "cell_type": "code",
      "source": "df = pd.read_sql('SELECT * FROM employees', conn, index_col = 'EmployeeId', parse_dates =['BirthDate', 'HireDate'])\ndf.head()",
      "metadata": {
        "trusted": true
      },
      "outputs": [
        {
          "execution_count": 16,
          "output_type": "execute_result",
          "data": {
            "text/plain": "           LastName FirstName                Title  ReportsTo  BirthDate  \\\nEmployeeId                                                                 \n1             Adams    Andrew      General Manager        NaN 1962-02-18   \n2           Edwards     Nancy        Sales Manager        1.0 1958-12-08   \n3           Peacock      Jane  Sales Support Agent        2.0 1973-08-29   \n4              Park  Margaret  Sales Support Agent        2.0 1947-09-19   \n5           Johnson     Steve  Sales Support Agent        2.0 1965-03-03   \n\n             HireDate              Address      City State Country PostalCode  \\\nEmployeeId                                                                      \n1          2002-08-14  11120 Jasper Ave NW  Edmonton    AB  Canada    T5K 2N1   \n2          2002-05-01         825 8 Ave SW   Calgary    AB  Canada    T2P 2T3   \n3          2002-04-01        1111 6 Ave SW   Calgary    AB  Canada    T2P 5M5   \n4          2003-05-03     683 10 Street SW   Calgary    AB  Canada    T2P 5G3   \n5          2003-10-17         7727B 41 Ave   Calgary    AB  Canada    T3B 1Y7   \n\n                        Phone                Fax                     Email  \nEmployeeId                                                                  \n1           +1 (780) 428-9482  +1 (780) 428-3457    andrew@chinookcorp.com  \n2           +1 (403) 262-3443  +1 (403) 262-3322     nancy@chinookcorp.com  \n3           +1 (403) 262-3443  +1 (403) 262-6712      jane@chinookcorp.com  \n4           +1 (403) 263-4423  +1 (403) 263-4289  margaret@chinookcorp.com  \n5            1 (780) 836-9987   1 (780) 836-9543     steve@chinookcorp.com  ",
            "text/html": "<div>\n<style scoped>\n    .dataframe tbody tr th:only-of-type {\n        vertical-align: middle;\n    }\n\n    .dataframe tbody tr th {\n        vertical-align: top;\n    }\n\n    .dataframe thead th {\n        text-align: right;\n    }\n</style>\n<table border=\"1\" class=\"dataframe\">\n  <thead>\n    <tr style=\"text-align: right;\">\n      <th></th>\n      <th>LastName</th>\n      <th>FirstName</th>\n      <th>Title</th>\n      <th>ReportsTo</th>\n      <th>BirthDate</th>\n      <th>HireDate</th>\n      <th>Address</th>\n      <th>City</th>\n      <th>State</th>\n      <th>Country</th>\n      <th>PostalCode</th>\n      <th>Phone</th>\n      <th>Fax</th>\n      <th>Email</th>\n    </tr>\n    <tr>\n      <th>EmployeeId</th>\n      <th></th>\n      <th></th>\n      <th></th>\n      <th></th>\n      <th></th>\n      <th></th>\n      <th></th>\n      <th></th>\n      <th></th>\n      <th></th>\n      <th></th>\n      <th></th>\n      <th></th>\n      <th></th>\n    </tr>\n  </thead>\n  <tbody>\n    <tr>\n      <th>1</th>\n      <td>Adams</td>\n      <td>Andrew</td>\n      <td>General Manager</td>\n      <td>NaN</td>\n      <td>1962-02-18</td>\n      <td>2002-08-14</td>\n      <td>11120 Jasper Ave NW</td>\n      <td>Edmonton</td>\n      <td>AB</td>\n      <td>Canada</td>\n      <td>T5K 2N1</td>\n      <td>+1 (780) 428-9482</td>\n      <td>+1 (780) 428-3457</td>\n      <td>andrew@chinookcorp.com</td>\n    </tr>\n    <tr>\n      <th>2</th>\n      <td>Edwards</td>\n      <td>Nancy</td>\n      <td>Sales Manager</td>\n      <td>1.0</td>\n      <td>1958-12-08</td>\n      <td>2002-05-01</td>\n      <td>825 8 Ave SW</td>\n      <td>Calgary</td>\n      <td>AB</td>\n      <td>Canada</td>\n      <td>T2P 2T3</td>\n      <td>+1 (403) 262-3443</td>\n      <td>+1 (403) 262-3322</td>\n      <td>nancy@chinookcorp.com</td>\n    </tr>\n    <tr>\n      <th>3</th>\n      <td>Peacock</td>\n      <td>Jane</td>\n      <td>Sales Support Agent</td>\n      <td>2.0</td>\n      <td>1973-08-29</td>\n      <td>2002-04-01</td>\n      <td>1111 6 Ave SW</td>\n      <td>Calgary</td>\n      <td>AB</td>\n      <td>Canada</td>\n      <td>T2P 5M5</td>\n      <td>+1 (403) 262-3443</td>\n      <td>+1 (403) 262-6712</td>\n      <td>jane@chinookcorp.com</td>\n    </tr>\n    <tr>\n      <th>4</th>\n      <td>Park</td>\n      <td>Margaret</td>\n      <td>Sales Support Agent</td>\n      <td>2.0</td>\n      <td>1947-09-19</td>\n      <td>2003-05-03</td>\n      <td>683 10 Street SW</td>\n      <td>Calgary</td>\n      <td>AB</td>\n      <td>Canada</td>\n      <td>T2P 5G3</td>\n      <td>+1 (403) 263-4423</td>\n      <td>+1 (403) 263-4289</td>\n      <td>margaret@chinookcorp.com</td>\n    </tr>\n    <tr>\n      <th>5</th>\n      <td>Johnson</td>\n      <td>Steve</td>\n      <td>Sales Support Agent</td>\n      <td>2.0</td>\n      <td>1965-03-03</td>\n      <td>2003-10-17</td>\n      <td>7727B 41 Ave</td>\n      <td>Calgary</td>\n      <td>AB</td>\n      <td>Canada</td>\n      <td>T3B 1Y7</td>\n      <td>1 (780) 836-9987</td>\n      <td>1 (780) 836-9543</td>\n      <td>steve@chinookcorp.com</td>\n    </tr>\n  </tbody>\n</table>\n</div>"
          },
          "metadata": {}
        }
      ],
      "execution_count": 16
    },
    {
      "id": "c649e6fe-1e12-4555-89ce-f8322b6d9b30",
      "cell_type": "code",
      "source": "df.to_sql?",
      "metadata": {
        "trusted": true
      },
      "outputs": [
        {
          "name": "stdout",
          "output_type": "stream",
          "text": "\u001b[0;31mSignature:\u001b[0m\n\u001b[0mdf\u001b[0m\u001b[0;34m.\u001b[0m\u001b[0mto_sql\u001b[0m\u001b[0;34m(\u001b[0m\u001b[0;34m\u001b[0m\n\u001b[0;34m\u001b[0m    \u001b[0mname\u001b[0m\u001b[0;34m:\u001b[0m \u001b[0;34m'str'\u001b[0m\u001b[0;34m,\u001b[0m\u001b[0;34m\u001b[0m\n\u001b[0;34m\u001b[0m    \u001b[0mcon\u001b[0m\u001b[0;34m,\u001b[0m\u001b[0;34m\u001b[0m\n\u001b[0;34m\u001b[0m    \u001b[0;34m*\u001b[0m\u001b[0;34m,\u001b[0m\u001b[0;34m\u001b[0m\n\u001b[0;34m\u001b[0m    \u001b[0mschema\u001b[0m\u001b[0;34m:\u001b[0m \u001b[0;34m'str | None'\u001b[0m \u001b[0;34m=\u001b[0m \u001b[0;32mNone\u001b[0m\u001b[0;34m,\u001b[0m\u001b[0;34m\u001b[0m\n\u001b[0;34m\u001b[0m    \u001b[0mif_exists\u001b[0m\u001b[0;34m:\u001b[0m \u001b[0;34m\"Literal['fail', 'replace', 'append']\"\u001b[0m \u001b[0;34m=\u001b[0m \u001b[0;34m'fail'\u001b[0m\u001b[0;34m,\u001b[0m\u001b[0;34m\u001b[0m\n\u001b[0;34m\u001b[0m    \u001b[0mindex\u001b[0m\u001b[0;34m:\u001b[0m \u001b[0;34m'bool_t'\u001b[0m \u001b[0;34m=\u001b[0m \u001b[0;32mTrue\u001b[0m\u001b[0;34m,\u001b[0m\u001b[0;34m\u001b[0m\n\u001b[0;34m\u001b[0m    \u001b[0mindex_label\u001b[0m\u001b[0;34m:\u001b[0m \u001b[0;34m'IndexLabel | None'\u001b[0m \u001b[0;34m=\u001b[0m \u001b[0;32mNone\u001b[0m\u001b[0;34m,\u001b[0m\u001b[0;34m\u001b[0m\n\u001b[0;34m\u001b[0m    \u001b[0mchunksize\u001b[0m\u001b[0;34m:\u001b[0m \u001b[0;34m'int | None'\u001b[0m \u001b[0;34m=\u001b[0m \u001b[0;32mNone\u001b[0m\u001b[0;34m,\u001b[0m\u001b[0;34m\u001b[0m\n\u001b[0;34m\u001b[0m    \u001b[0mdtype\u001b[0m\u001b[0;34m:\u001b[0m \u001b[0;34m'DtypeArg | None'\u001b[0m \u001b[0;34m=\u001b[0m \u001b[0;32mNone\u001b[0m\u001b[0;34m,\u001b[0m\u001b[0;34m\u001b[0m\n\u001b[0;34m\u001b[0m    \u001b[0mmethod\u001b[0m\u001b[0;34m:\u001b[0m \u001b[0;34m\"Literal['multi'] | Callable | None\"\u001b[0m \u001b[0;34m=\u001b[0m \u001b[0;32mNone\u001b[0m\u001b[0;34m,\u001b[0m\u001b[0;34m\u001b[0m\n\u001b[0;34m\u001b[0m\u001b[0;34m)\u001b[0m \u001b[0;34m->\u001b[0m \u001b[0;34m'int | None'\u001b[0m\u001b[0;34m\u001b[0m\u001b[0;34m\u001b[0m\u001b[0m\n\u001b[0;31mDocstring:\u001b[0m\nWrite records stored in a DataFrame to a SQL database.\n\nDatabases supported by SQLAlchemy [1]_ are supported. Tables can be\nnewly created, appended to, or overwritten.\n\nParameters\n----------\nname : str\n    Name of SQL table.\ncon : sqlalchemy.engine.(Engine or Connection) or sqlite3.Connection\n    Using SQLAlchemy makes it possible to use any DB supported by that\n    library. Legacy support is provided for sqlite3.Connection objects. The user\n    is responsible for engine disposal and connection closure for the SQLAlchemy\n    connectable. See `here                 <https://docs.sqlalchemy.org/en/20/core/connections.html>`_.\n    If passing a sqlalchemy.engine.Connection which is already in a transaction,\n    the transaction will not be committed.  If passing a sqlite3.Connection,\n    it will not be possible to roll back the record insertion.\n\nschema : str, optional\n    Specify the schema (if database flavor supports this). If None, use\n    default schema.\nif_exists : {'fail', 'replace', 'append'}, default 'fail'\n    How to behave if the table already exists.\n\n    * fail: Raise a ValueError.\n    * replace: Drop the table before inserting new values.\n    * append: Insert new values to the existing table.\n\nindex : bool, default True\n    Write DataFrame index as a column. Uses `index_label` as the column\n    name in the table. Creates a table index for this column.\nindex_label : str or sequence, default None\n    Column label for index column(s). If None is given (default) and\n    `index` is True, then the index names are used.\n    A sequence should be given if the DataFrame uses MultiIndex.\nchunksize : int, optional\n    Specify the number of rows in each batch to be written at a time.\n    By default, all rows will be written at once.\ndtype : dict or scalar, optional\n    Specifying the datatype for columns. If a dictionary is used, the\n    keys should be the column names and the values should be the\n    SQLAlchemy types or strings for the sqlite3 legacy mode. If a\n    scalar is provided, it will be applied to all columns.\nmethod : {None, 'multi', callable}, optional\n    Controls the SQL insertion clause used:\n\n    * None : Uses standard SQL ``INSERT`` clause (one per row).\n    * 'multi': Pass multiple values in a single ``INSERT`` clause.\n    * callable with signature ``(pd_table, conn, keys, data_iter)``.\n\n    Details and a sample callable implementation can be found in the\n    section :ref:`insert method <io.sql.method>`.\n\nReturns\n-------\nNone or int\n    Number of rows affected by to_sql. None is returned if the callable\n    passed into ``method`` does not return an integer number of rows.\n\n    The number of returned rows affected is the sum of the ``rowcount``\n    attribute of ``sqlite3.Cursor`` or SQLAlchemy connectable which may not\n    reflect the exact number of written rows as stipulated in the\n    `sqlite3 <https://docs.python.org/3/library/sqlite3.html#sqlite3.Cursor.rowcount>`__ or\n    `SQLAlchemy <https://docs.sqlalchemy.org/en/20/core/connections.html#sqlalchemy.engine.CursorResult.rowcount>`__.\n\n    .. versionadded:: 1.4.0\n\nRaises\n------\nValueError\n    When the table already exists and `if_exists` is 'fail' (the\n    default).\n\nSee Also\n--------\nread_sql : Read a DataFrame from a table.\n\nNotes\n-----\nTimezone aware datetime columns will be written as\n``Timestamp with timezone`` type with SQLAlchemy if supported by the\ndatabase. Otherwise, the datetimes will be stored as timezone unaware\ntimestamps local to the original timezone.\n\nNot all datastores support ``method=\"multi\"``. Oracle, for example,\ndoes not support multi-value insert.\n\nReferences\n----------\n.. [1] https://docs.sqlalchemy.org\n.. [2] https://www.python.org/dev/peps/pep-0249/\n\nExamples\n--------\nCreate an in-memory SQLite database.\n\n>>> from sqlalchemy import create_engine\n>>> engine = create_engine('sqlite://', echo=False)\n\nCreate a table from scratch with 3 rows.\n\n>>> df = pd.DataFrame({'name' : ['User 1', 'User 2', 'User 3']})\n>>> df\n     name\n0  User 1\n1  User 2\n2  User 3\n\n>>> df.to_sql(name='users', con=engine)\n3\n>>> from sqlalchemy import text\n>>> with engine.connect() as conn:\n...    conn.execute(text(\"SELECT * FROM users\")).fetchall()\n[(0, 'User 1'), (1, 'User 2'), (2, 'User 3')]\n\nAn `sqlalchemy.engine.Connection` can also be passed to `con`:\n\n>>> with engine.begin() as connection:\n...     df1 = pd.DataFrame({'name' : ['User 4', 'User 5']})\n...     df1.to_sql(name='users', con=connection, if_exists='append')\n2\n\nThis is allowed to support operations that require that the same\nDBAPI connection is used for the entire operation.\n\n>>> df2 = pd.DataFrame({'name' : ['User 6', 'User 7']})\n>>> df2.to_sql(name='users', con=engine, if_exists='append')\n2\n>>> with engine.connect() as conn:\n...    conn.execute(text(\"SELECT * FROM users\")).fetchall()\n[(0, 'User 1'), (1, 'User 2'), (2, 'User 3'),\n (0, 'User 4'), (1, 'User 5'), (0, 'User 6'),\n (1, 'User 7')]\n\nOverwrite the table with just ``df2``.\n\n>>> df2.to_sql(name='users', con=engine, if_exists='replace',\n...            index_label='id')\n2\n>>> with engine.connect() as conn:\n...    conn.execute(text(\"SELECT * FROM users\")).fetchall()\n[(0, 'User 6'), (1, 'User 7')]\n\nUse ``method`` to define a callable insertion method to do nothing\nif there's a primary key conflict on a table in a PostgreSQL database.\n\n>>> from sqlalchemy.dialects.postgresql import insert\n>>> def insert_on_conflict_nothing(table, conn, keys, data_iter):\n...     # \"a\" is the primary key in \"conflict_table\"\n...     data = [dict(zip(keys, row)) for row in data_iter]\n...     stmt = insert(table.table).values(data).on_conflict_do_nothing(index_elements=[\"a\"])\n...     result = conn.execute(stmt)\n...     return result.rowcount\n>>> df_conflict.to_sql(name=\"conflict_table\", con=conn, if_exists=\"append\", method=insert_on_conflict_nothing)  # doctest: +SKIP\n0\n\nFor MySQL, a callable to update columns ``b`` and ``c`` if there's a conflict\non a primary key.\n\n>>> from sqlalchemy.dialects.mysql import insert\n>>> def insert_on_conflict_update(table, conn, keys, data_iter):\n...     # update columns \"b\" and \"c\" on primary key conflict\n...     data = [dict(zip(keys, row)) for row in data_iter]\n...     stmt = (\n...         insert(table.table)\n...         .values(data)\n...     )\n...     stmt = stmt.on_duplicate_key_update(b=stmt.inserted.b, c=stmt.inserted.c)\n...     result = conn.execute(stmt)\n...     return result.rowcount\n>>> df_conflict.to_sql(name=\"conflict_table\", con=conn, if_exists=\"append\", method=insert_on_conflict_update)  # doctest: +SKIP\n2\n\nSpecify the dtype (especially useful for integers with missing values).\nNotice that while pandas is forced to store the data as floating point,\nthe database supports nullable integers. When fetching the data with\nPython, we get back integer scalars.\n\n>>> df = pd.DataFrame({\"A\": [1, None, 2]})\n>>> df\n     A\n0  1.0\n1  NaN\n2  2.0\n\n>>> from sqlalchemy.types import Integer\n>>> df.to_sql(name='integers', con=engine, index=False,\n...           dtype={\"A\": Integer()})\n3\n\n>>> with engine.connect() as conn:\n...   conn.execute(text(\"SELECT * FROM integers\")).fetchall()\n[(1,), (None,), (2,)]\n\u001b[0;31mFile:\u001b[0m      /lib/python3.12/site-packages/pandas/core/generic.py\n\u001b[0;31mType:\u001b[0m      method\n"
        }
      ],
      "execution_count": 17
    },
    {
      "id": "177d7ed9-85b0-41bc-ad58-fc9ced2a4573",
      "cell_type": "code",
      "source": "",
      "metadata": {
        "trusted": true
      },
      "outputs": [],
      "execution_count": null
    }
  ]
}